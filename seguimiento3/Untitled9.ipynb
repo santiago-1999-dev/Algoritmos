{
  "nbformat": 4,
  "nbformat_minor": 0,
  "metadata": {
    "colab": {
      "name": "Untitled9.ipynb",
      "provenance": []
    },
    "kernelspec": {
      "name": "python3",
      "display_name": "Python 3"
    }
  },
  "cells": [
    {
      "cell_type": "markdown",
      "metadata": {
        "id": "sZ842R9LQk72"
      },
      "source": [
        "Juan Esteban Arias Ruiz --- Santiago Betancur MUñoz"
      ]
    },
    {
      "cell_type": "markdown",
      "metadata": {
        "id": "6Kvy-R8XD3ZF"
      },
      "source": [
        "Punto 1"
      ]
    },
    {
      "cell_type": "code",
      "metadata": {
        "id": "eatM8AoeCzrh",
        "outputId": "6b0d4d66-6f6d-43d6-b9e4-aa36f6de1176",
        "colab": {
          "base_uri": "https://localhost:8080/",
          "height": 1000
        }
      },
      "source": [
        "import sklearn #Aprendizaje de máquina\n",
        "from sklearn.datasets import load_iris#SET DATOS\n",
        "from sklearn.model_selection import train_test_split#Division de datos\n",
        "#para entrenar y para verificar\n",
        "iris=load_iris()#cargar el set de datos\n",
        "#print(type(iris))\n",
        "print(iris.keys())\n",
        "print(iris['data'])\n",
        "print(iris['target_names'])\n",
        "print(iris['target'])\n",
        "print(iris['feature_names'])"
      ],
      "execution_count": 54,
      "outputs": [
        {
          "output_type": "stream",
          "text": [
            "dict_keys(['data', 'target', 'target_names', 'DESCR', 'feature_names', 'filename'])\n",
            "[[5.1 3.5 1.4 0.2]\n",
            " [4.9 3.  1.4 0.2]\n",
            " [4.7 3.2 1.3 0.2]\n",
            " [4.6 3.1 1.5 0.2]\n",
            " [5.  3.6 1.4 0.2]\n",
            " [5.4 3.9 1.7 0.4]\n",
            " [4.6 3.4 1.4 0.3]\n",
            " [5.  3.4 1.5 0.2]\n",
            " [4.4 2.9 1.4 0.2]\n",
            " [4.9 3.1 1.5 0.1]\n",
            " [5.4 3.7 1.5 0.2]\n",
            " [4.8 3.4 1.6 0.2]\n",
            " [4.8 3.  1.4 0.1]\n",
            " [4.3 3.  1.1 0.1]\n",
            " [5.8 4.  1.2 0.2]\n",
            " [5.7 4.4 1.5 0.4]\n",
            " [5.4 3.9 1.3 0.4]\n",
            " [5.1 3.5 1.4 0.3]\n",
            " [5.7 3.8 1.7 0.3]\n",
            " [5.1 3.8 1.5 0.3]\n",
            " [5.4 3.4 1.7 0.2]\n",
            " [5.1 3.7 1.5 0.4]\n",
            " [4.6 3.6 1.  0.2]\n",
            " [5.1 3.3 1.7 0.5]\n",
            " [4.8 3.4 1.9 0.2]\n",
            " [5.  3.  1.6 0.2]\n",
            " [5.  3.4 1.6 0.4]\n",
            " [5.2 3.5 1.5 0.2]\n",
            " [5.2 3.4 1.4 0.2]\n",
            " [4.7 3.2 1.6 0.2]\n",
            " [4.8 3.1 1.6 0.2]\n",
            " [5.4 3.4 1.5 0.4]\n",
            " [5.2 4.1 1.5 0.1]\n",
            " [5.5 4.2 1.4 0.2]\n",
            " [4.9 3.1 1.5 0.2]\n",
            " [5.  3.2 1.2 0.2]\n",
            " [5.5 3.5 1.3 0.2]\n",
            " [4.9 3.6 1.4 0.1]\n",
            " [4.4 3.  1.3 0.2]\n",
            " [5.1 3.4 1.5 0.2]\n",
            " [5.  3.5 1.3 0.3]\n",
            " [4.5 2.3 1.3 0.3]\n",
            " [4.4 3.2 1.3 0.2]\n",
            " [5.  3.5 1.6 0.6]\n",
            " [5.1 3.8 1.9 0.4]\n",
            " [4.8 3.  1.4 0.3]\n",
            " [5.1 3.8 1.6 0.2]\n",
            " [4.6 3.2 1.4 0.2]\n",
            " [5.3 3.7 1.5 0.2]\n",
            " [5.  3.3 1.4 0.2]\n",
            " [7.  3.2 4.7 1.4]\n",
            " [6.4 3.2 4.5 1.5]\n",
            " [6.9 3.1 4.9 1.5]\n",
            " [5.5 2.3 4.  1.3]\n",
            " [6.5 2.8 4.6 1.5]\n",
            " [5.7 2.8 4.5 1.3]\n",
            " [6.3 3.3 4.7 1.6]\n",
            " [4.9 2.4 3.3 1. ]\n",
            " [6.6 2.9 4.6 1.3]\n",
            " [5.2 2.7 3.9 1.4]\n",
            " [5.  2.  3.5 1. ]\n",
            " [5.9 3.  4.2 1.5]\n",
            " [6.  2.2 4.  1. ]\n",
            " [6.1 2.9 4.7 1.4]\n",
            " [5.6 2.9 3.6 1.3]\n",
            " [6.7 3.1 4.4 1.4]\n",
            " [5.6 3.  4.5 1.5]\n",
            " [5.8 2.7 4.1 1. ]\n",
            " [6.2 2.2 4.5 1.5]\n",
            " [5.6 2.5 3.9 1.1]\n",
            " [5.9 3.2 4.8 1.8]\n",
            " [6.1 2.8 4.  1.3]\n",
            " [6.3 2.5 4.9 1.5]\n",
            " [6.1 2.8 4.7 1.2]\n",
            " [6.4 2.9 4.3 1.3]\n",
            " [6.6 3.  4.4 1.4]\n",
            " [6.8 2.8 4.8 1.4]\n",
            " [6.7 3.  5.  1.7]\n",
            " [6.  2.9 4.5 1.5]\n",
            " [5.7 2.6 3.5 1. ]\n",
            " [5.5 2.4 3.8 1.1]\n",
            " [5.5 2.4 3.7 1. ]\n",
            " [5.8 2.7 3.9 1.2]\n",
            " [6.  2.7 5.1 1.6]\n",
            " [5.4 3.  4.5 1.5]\n",
            " [6.  3.4 4.5 1.6]\n",
            " [6.7 3.1 4.7 1.5]\n",
            " [6.3 2.3 4.4 1.3]\n",
            " [5.6 3.  4.1 1.3]\n",
            " [5.5 2.5 4.  1.3]\n",
            " [5.5 2.6 4.4 1.2]\n",
            " [6.1 3.  4.6 1.4]\n",
            " [5.8 2.6 4.  1.2]\n",
            " [5.  2.3 3.3 1. ]\n",
            " [5.6 2.7 4.2 1.3]\n",
            " [5.7 3.  4.2 1.2]\n",
            " [5.7 2.9 4.2 1.3]\n",
            " [6.2 2.9 4.3 1.3]\n",
            " [5.1 2.5 3.  1.1]\n",
            " [5.7 2.8 4.1 1.3]\n",
            " [6.3 3.3 6.  2.5]\n",
            " [5.8 2.7 5.1 1.9]\n",
            " [7.1 3.  5.9 2.1]\n",
            " [6.3 2.9 5.6 1.8]\n",
            " [6.5 3.  5.8 2.2]\n",
            " [7.6 3.  6.6 2.1]\n",
            " [4.9 2.5 4.5 1.7]\n",
            " [7.3 2.9 6.3 1.8]\n",
            " [6.7 2.5 5.8 1.8]\n",
            " [7.2 3.6 6.1 2.5]\n",
            " [6.5 3.2 5.1 2. ]\n",
            " [6.4 2.7 5.3 1.9]\n",
            " [6.8 3.  5.5 2.1]\n",
            " [5.7 2.5 5.  2. ]\n",
            " [5.8 2.8 5.1 2.4]\n",
            " [6.4 3.2 5.3 2.3]\n",
            " [6.5 3.  5.5 1.8]\n",
            " [7.7 3.8 6.7 2.2]\n",
            " [7.7 2.6 6.9 2.3]\n",
            " [6.  2.2 5.  1.5]\n",
            " [6.9 3.2 5.7 2.3]\n",
            " [5.6 2.8 4.9 2. ]\n",
            " [7.7 2.8 6.7 2. ]\n",
            " [6.3 2.7 4.9 1.8]\n",
            " [6.7 3.3 5.7 2.1]\n",
            " [7.2 3.2 6.  1.8]\n",
            " [6.2 2.8 4.8 1.8]\n",
            " [6.1 3.  4.9 1.8]\n",
            " [6.4 2.8 5.6 2.1]\n",
            " [7.2 3.  5.8 1.6]\n",
            " [7.4 2.8 6.1 1.9]\n",
            " [7.9 3.8 6.4 2. ]\n",
            " [6.4 2.8 5.6 2.2]\n",
            " [6.3 2.8 5.1 1.5]\n",
            " [6.1 2.6 5.6 1.4]\n",
            " [7.7 3.  6.1 2.3]\n",
            " [6.3 3.4 5.6 2.4]\n",
            " [6.4 3.1 5.5 1.8]\n",
            " [6.  3.  4.8 1.8]\n",
            " [6.9 3.1 5.4 2.1]\n",
            " [6.7 3.1 5.6 2.4]\n",
            " [6.9 3.1 5.1 2.3]\n",
            " [5.8 2.7 5.1 1.9]\n",
            " [6.8 3.2 5.9 2.3]\n",
            " [6.7 3.3 5.7 2.5]\n",
            " [6.7 3.  5.2 2.3]\n",
            " [6.3 2.5 5.  1.9]\n",
            " [6.5 3.  5.2 2. ]\n",
            " [6.2 3.4 5.4 2.3]\n",
            " [5.9 3.  5.1 1.8]]\n",
            "['setosa' 'versicolor' 'virginica']\n",
            "[0 0 0 0 0 0 0 0 0 0 0 0 0 0 0 0 0 0 0 0 0 0 0 0 0 0 0 0 0 0 0 0 0 0 0 0 0\n",
            " 0 0 0 0 0 0 0 0 0 0 0 0 0 1 1 1 1 1 1 1 1 1 1 1 1 1 1 1 1 1 1 1 1 1 1 1 1\n",
            " 1 1 1 1 1 1 1 1 1 1 1 1 1 1 1 1 1 1 1 1 1 1 1 1 1 1 2 2 2 2 2 2 2 2 2 2 2\n",
            " 2 2 2 2 2 2 2 2 2 2 2 2 2 2 2 2 2 2 2 2 2 2 2 2 2 2 2 2 2 2 2 2 2 2 2 2 2\n",
            " 2 2]\n",
            "['sepal length (cm)', 'sepal width (cm)', 'petal length (cm)', 'petal width (cm)']\n"
          ],
          "name": "stdout"
        }
      ]
    },
    {
      "cell_type": "code",
      "metadata": {
        "id": "MOMW3pGdDU_6",
        "outputId": "31c2c5cd-0d92-4856-baa4-c77ff5a2b2b9",
        "colab": {
          "base_uri": "https://localhost:8080/",
          "height": 102
        }
      },
      "source": [
        "datosEntrenamiento, datosPrueba,respuestasEntrenamiento,respuestaPrueba=train_test_split(iris['data'],iris['target'])\n",
        "print(datosEntrenamiento.shape)\n",
        "#print (datosEntrenamiento)\n",
        "print(respuestasEntrenamiento)"
      ],
      "execution_count": 75,
      "outputs": [
        {
          "output_type": "stream",
          "text": [
            "(112, 4)\n",
            "[0 2 1 2 1 1 0 1 0 1 2 1 1 2 1 1 1 1 0 0 1 2 0 0 0 2 2 1 0 2 0 0 0 1 0 0 2\n",
            " 2 0 2 0 1 1 1 2 1 0 0 1 0 2 2 2 1 1 0 1 1 2 2 2 0 2 2 2 1 0 0 0 2 1 2 1 0\n",
            " 0 0 2 0 2 1 2 1 2 1 2 1 2 2 1 0 1 2 1 0 0 0 0 2 1 0 0 0 0 0 0 1 1 2 2 2 2\n",
            " 0]\n"
          ],
          "name": "stdout"
        }
      ]
    },
    {
      "cell_type": "code",
      "metadata": {
        "id": "T9sLvyinDgP3",
        "outputId": "bf2c2e76-c98b-47b4-ee58-eee24f12b97a",
        "colab": {
          "base_uri": "https://localhost:8080/",
          "height": 102
        }
      },
      "source": [
        "from sklearn.neighbors import KNeighborsClassifier\n",
        "lista_clasificadores = []\n",
        "scores_clasificadores = []\n",
        "lista_clasificadores.append(KNeighborsClassifier(n_neighbors=4))\n",
        "lista_clasificadores.append(KNeighborsClassifier(n_neighbors=8))\n",
        "lista_clasificadores.append(KNeighborsClassifier(n_neighbors=12))\n",
        "lista_clasificadores.append(KNeighborsClassifier(n_neighbors=16))\n",
        "for elemento in lista_clasificadores:\n",
        "  elemento.fit(datosEntrenamiento,respuestasEntrenamiento)\n",
        "  scores_clasificadores.append(elemento.score(datosPrueba,respuestaPrueba)*100)\n",
        "  print(elemento.score(datosPrueba,respuestaPrueba)*100)\n",
        "print(scores_clasificadores)"
      ],
      "execution_count": 76,
      "outputs": [
        {
          "output_type": "stream",
          "text": [
            "94.73684210526315\n",
            "97.36842105263158\n",
            "97.36842105263158\n",
            "100.0\n",
            "[94.73684210526315, 97.36842105263158, 97.36842105263158, 100.0]\n"
          ],
          "name": "stdout"
        }
      ]
    },
    {
      "cell_type": "markdown",
      "metadata": {
        "id": "FJBrciuGD0VS"
      },
      "source": [
        "Cuando fue ejecutado por segunda vez saliero sobre ajustados el 4"
      ]
    },
    {
      "cell_type": "markdown",
      "metadata": {
        "id": "qoUAqSkWEALS"
      },
      "source": [
        "Punto 2\n"
      ]
    },
    {
      "cell_type": "code",
      "metadata": {
        "id": "bq21LsZ0ECws"
      },
      "source": [
        "from sklearn.datasets import load_iris \n",
        "from sklearn.model_selection import train_test_split \n",
        "from sklearn.tree import  DecisionTreeClassifier \n",
        "\n",
        "iris = load_iris()"
      ],
      "execution_count": 77,
      "outputs": []
    },
    {
      "cell_type": "code",
      "metadata": {
        "id": "_w0E66hDEs6V",
        "outputId": "d3df905c-9637-4e77-aa6f-ac09f766e6f3",
        "colab": {
          "base_uri": "https://localhost:8080/",
          "height": 34
        }
      },
      "source": [
        "arbol3 = DecisionTreeClassifier(max_depth=3)\n",
        "arbol3.fit(datosEntrenamiento,respuestasEntrenamiento)\n",
        "scoreTree3 = arbol3.score(datosPrueba, respuestaPrueba)*100\n",
        "print(scoreTree3)\n"
      ],
      "execution_count": 78,
      "outputs": [
        {
          "output_type": "stream",
          "text": [
            "92.10526315789474\n"
          ],
          "name": "stdout"
        }
      ]
    },
    {
      "cell_type": "markdown",
      "metadata": {
        "id": "kM1_XZ9tLTTe"
      },
      "source": [
        "NO, salio menor a los resultado de los vecinos  "
      ]
    },
    {
      "cell_type": "markdown",
      "metadata": {
        "id": "kxp_ZFJfGKq8"
      },
      "source": [
        "Punto 3"
      ]
    },
    {
      "cell_type": "code",
      "metadata": {
        "id": "XzZts5FzGctq"
      },
      "source": [
        "dataTrain, dataTest, targetTrain, targetTest = train_test_split (iris['data'],iris['target'])"
      ],
      "execution_count": 82,
      "outputs": []
    },
    {
      "cell_type": "code",
      "metadata": {
        "id": "BV-MdRn2GMsw",
        "outputId": "5dfbbe43-9027-4c80-ad79-596ea57c33a1",
        "colab": {
          "base_uri": "https://localhost:8080/",
          "height": 34
        }
      },
      "source": [
        "from sklearn.neural_network import MLPClassifier\n",
        "redMLP = MLPClassifier(max_iter = 3000, hidden_layer_sizes = [25,82,30])\n",
        "redMLP.fit (dataTrain, targetTrain)\n",
        "print (redMLP.score(dataTest, targetTest)*100)"
      ],
      "execution_count": 83,
      "outputs": [
        {
          "output_type": "stream",
          "text": [
            "97.36842105263158\n"
          ],
          "name": "stdout"
        }
      ]
    },
    {
      "cell_type": "markdown",
      "metadata": {
        "id": "emzlupr_GuzL"
      },
      "source": [
        "Punto 4"
      ]
    },
    {
      "cell_type": "code",
      "metadata": {
        "id": "R7o4erWSGsdn",
        "outputId": "5cd52264-862e-47f3-e202-9c421ce73b86",
        "colab": {
          "base_uri": "https://localhost:8080/",
          "height": 312
        }
      },
      "source": [
        "score_clasificadores_total=[]\n",
        "score_clasificadores_total.append(elemento.score(datosPrueba,respuestaPrueba)*100)\n",
        "score_clasificadores_total.append(arbol3.score(datosPrueba, respuestaPrueba)*100)\n",
        "score_clasificadores_total.append(redMLP.score(dataTest, targetTest)*100)\n",
        "score_clasificadores_total.append(gnb.score(datosPrueba, respuestaPrueba)*100)\n",
        "print(\"el puntaje maximo fue\", max(score_clasificadores_total))\n",
        "\n",
        "import matplotlib.pyplot as plt\n",
        "clasificador = [\"KNN 3\",\"Arbol Decisiones\",\"Red Neuronal\",\"GNB\"]\n",
        "plt.bar(clasificador,score_clasificadores_total)\n",
        "plt.ylabel(\"Porcentaje de acierto\")\n",
        "plt.xlabel(\"clasificador\")\n",
        "plt.title(\"COMPARACIÓN CLASIFICADORES \")\n",
        "plt.show()\n",
        "\n"
      ],
      "execution_count": 87,
      "outputs": [
        {
          "output_type": "stream",
          "text": [
            "el puntaje maximo fue 100.0\n"
          ],
          "name": "stdout"
        },
        {
          "output_type": "display_data",
          "data": {
            "image/png": "[encoded data removed]",
            "text/plain": [
              "<Figure size 432x288 with 1 Axes>"
            ]
          },
          "metadata": {
            "tags": [],
            "needs_background": "light"
          }
        }
      ]
    },
    {
      "cell_type": "markdown",
      "metadata": {
        "id": "DbjHUAvcJ6sK"
      },
      "source": [
        "Punto 5\n"
      ]
    },
    {
      "cell_type": "code",
      "metadata": {
        "id": "lA2hfucoJ8r8",
        "outputId": "808a12ee-26a6-4ad0-840f-d29a349fbc92",
        "colab": {
          "base_uri": "https://localhost:8080/",
          "height": 34
        }
      },
      "source": [
        "from sklearn.naive_bayes import GaussianNB\n",
        "\n",
        "gnb = GaussianNB()\n",
        "gnb.fit (datosEntrenamiento, respuestasEntrenamiento)\n",
        "GNBscore = gnb.score(datosPrueba, respuestaPrueba)*100\n",
        "print (\"{}%\".format(GNBscore))"
      ],
      "execution_count": 86,
      "outputs": [
        {
          "output_type": "stream",
          "text": [
            "94.73684210526315%\n"
          ],
          "name": "stdout"
        }
      ]
    }
  ]
}