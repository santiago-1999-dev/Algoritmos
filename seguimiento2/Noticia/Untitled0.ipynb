{
  "nbformat": 4,
  "nbformat_minor": 0,
  "metadata": {
    "colab": {
      "name": "Untitled0.ipynb",
      "provenance": [],
      "collapsed_sections": []
    },
    "kernelspec": {
      "name": "python3",
      "display_name": "Python 3"
    }
  },
  "cells": [
    {
      "cell_type": "code",
      "metadata": {
        "id": "Chq8qewC9f93",
        "colab_type": "code",
        "colab": {}
      },
      "source": [
        "import requests\n",
        "import bs4\n",
        "\n",
        "url = \"https://noticias.caracoltv.com/\"\n",
        "\n",
        "response = requests.get(url)\n",
        "\n",
        "soup = bs4.BeautifulSoup(response.text, 'html.parser')\n",
        "news = soup.select('.PromoB-title a')\n",
        "noticias = []\n",
        "\n",
        "for item in news:\n",
        "    print(f\"Noticia:{item.text} | Link: {url}{item['href']}\")"
      ],
      "execution_count": null,
      "outputs": []
    },
    {
      "cell_type": "code",
      "metadata": {
        "id": "RGR2lhzj9mXB",
        "colab_type": "code",
        "colab": {
          "base_uri": "https://localhost:8080/",
          "height": 71
        },
        "outputId": "290b2afa-62af-4d7c-ec77-fabe785d0028"
      },
      "source": [
        "titulos =[]\n",
        "links = []\n",
        "for noticia in news:\n",
        "  titulos.append(noticia.text)\n",
        "  links.append('https://noticias.caracoltv.com/'+ noticia['href'])\n",
        "print (titulos)\n",
        "print (links)\n",
        "dictNoticias = {}\n",
        "dictNoticias['Noticias']= titulos\n",
        "dictNoticias['links']= links"
      ],
      "execution_count": 15,
      "outputs": [
        {
          "output_type": "stream",
          "text": [
            "['¡Por fin verá la luz! El túnel de La Línea empieza a funcionar este 4 de septiembre ', 'Acordeonero que le cantó a la pandemia y sobrevivió al COVID perdió la batalla contra otro enemigo', 'Bus del SITP repleto de pasajeros: una imagen que preocupa en Bogotá ', 'Niegan insólita tutela a mujer que dice que el cartel de Medellín lo creó el “Clero Ruso Ortodoxo”', 'La historia de una ‘bebé milagro’: su mamá murió tras ser arrollada por conductora ebria ', '\"Derrotamos al gobierno\": se cayó el \\'mico\\' de la ley de regalías que daba luz verde al fracking  ', 'Egan Bernal envió un mensaje tras la etapa 6 del Tour de Francia: “hay que tener paciencia”', 'El debut en el Tour de Francia todavía no le sonríe a Dayer Quintana: volvió a caerse en la etapa 6 ', '¿Por qué ningún ciclista se atreve a lanzar un ataque en la montaña del Tour de Francia? ', 'Canadá sugiere \"saltarse\" los besos y usar tapabocas durante el sexo en tiempo de coronavirus', 'India superó sus propias cifras récord de contagios diarios con COVID-19 ', 'Colombia hará estudio para medir el daño causado por el COVID-19 ', \"Vuelve la rumba y Cali lo sabe: así será ‘aguae'lulo’ que reactiva este sector en la ciudad \", 'El 93% de proyectos de vacunas no llegan a la fase III: Minsalud pide “optimismo moderado” ', 'La Roca reveló que él y su familia tuvieron coronavirus', 'Vacuna contra COVID-19 no estaría antes del primer semestre de 2021: Minsalud', '“Mi bebé es muy pequeño y no le puedo faltar”: Danna García habla de la muerte tras el COVID-19', '“Si lees esto, estoy muerto”: lo que escribió joven antes de ser alcanzado por un violador', 'Ladrón huyó al ver que su cómplice fue herido de muerte por un escolta en el sur de Medellín', 'Prepárese para ver más gente en el Metro: autorizaron ampliar su capacidad de ocupación', 'Por una “afección respiratoria”, Clara Luz Roldán fue internada en una clínica de Cali', 'Heroicos policías salvaron a mujer que estaba a punto de lanzarse desde un puente en Magdalena', 'Madre del delito: mujer que integraba banda criminal escondía las armas en el coche de su hijo ', 'Ciudadanos denuncian calvario para poder sacar sus vehículos de los patios en Medellín', 'Niño de 12 años sufrió graves quemaduras tras la caída de un cable en Barranquilla ', 'Cárcel para una joven que asesinó a una mujer durante una riña entre pandillas ', 'Rescatan a trabajadores que habían caído a un abismo en el Túnel del Toyo', 'Encuentran los cuerpos de 5 hermanitos en un apartamento y la mamá sería la responsable del crimen', 'Como malabarista de circo: arriesgó su vida para robar cableado eléctrico a 10 metros de altura', 'Reunión entre Henrique Capriles y el gobierno de Maduro molestó a Guaidó  ', '“Prueba indiscutible”: confirman que Alexei Navalny, duro crítico de Vladimir Putin, fue envenenado ', 'EE. UU. se la juega por deportar a Mancuso a Colombia: estos son sus argumentos  ', '“Esto es hermoso”: papa Francisco se reencuentra cara a cara con fieles luego de 6 meses', 'Muere joven embarazada en atentado contra su novio mientras ambos dormían', 'Se les dañó la risa a payasos que despedían con fiesta a uno de sus colegas', 'EE. UU. no participará en plataforma de la OMS para distribuir la vacuna del coronavirus ', 'Muere otro afroamericano a manos de la Policía en EE. UU.: denuncian que le dieron más de 20 tiros', 'Coronavirus cobró la vida de otros 296 colombianos: han muerto 20.348', 'Desde el Congreso denuncian manipulación de cifras para aplanar curva del COVID-19 ', 'Heroica labor de 100 voluntarios que lucharon contra el COVID en varias zonas de Colombia', 'Colombia supera los 20 mil muertos por coronavirus, justo el día que empieza la \"nueva realidad\"', 'Bacterióloga contrajo COVID-19 en abril y volvió a dar positivo en julio: ¿puede ser reinfección? ', '¡Cuidado! Gobierno reconoce que con nueva normalidad puede haber un rebrote del coronavirus \\r\\n ', 'Colombia se acerca a las 20.000 muertes por COVID-19 al registrar 299 en el último reporte', '¿Tiene barba? Ojo a estas recomendaciones a la hora de usar tapabocas', '¿Cómo se ve afectado el olfato por el coronavirus?  ', '¿Qué significa el rastreo de contactos de COVID-19 y por qué es tan importante? ', 'Contundente respuesta de Shannon De Lima a usuario que le dijo “mantenida” de James', 'Natalia París sorprende a sus seguidores al revelar experiencia paranormal', '“Una experiencia maravillosa”: Fernando Trueba sobre hacer ‘El olvido que seremos’ en Colombia', '“Te extraño mucho, papá”: tierna dedicatoria de La Chilindrina por cumpleaños de Don Ramón', '“Salir de la pobreza ni siquiera es tener dinero”: vea el contundente mensaje que envió La Liendra', 'El DJ Erick Morillo, muerto en extrañas circunstancias, enfrentaba un proceso judicial hace un mes', \"BTS habla de su exitosa canción ‘Dynamite’ y envía un mensaje a los 'Army' de todo el mundo\", 'Sara Uribe enseña el tatuaje que se hizo en pareja ', 'Elton John, Billie Eilish y Ozzy Osbourne donaron valiosos objetos para una subasta benéfica  ', 'Jennifer Lopez liderará campaña para que las mujeres latinas voten en elecciones de EE. UU.']\n",
            "['https://noticias.caracoltv.com/https://noticias.caracoltv.com/economia/por-fin-vera-la-luz-el-tunel-de-la-linea-empieza-a-funcionar-este-4-de-septiembre', 'https://noticias.caracoltv.com/https://noticias.caracoltv.com/caribe/acordeonero-que-le-canto-a-la-pandemia-y-sobrevivio-al-covid-perdio-la-batalla-contra-otro-enemigo', 'https://noticias.caracoltv.com/https://noticias.caracoltv.com/el-periodista-soy-yo/bus-del-sitp-repleto-de-pasajeros-una-imagen-que-preocupa-en-bogota', 'https://noticias.caracoltv.com/https://noticias.caracoltv.com/antioquia/tutela-dice-que-el-cartel-de-medellin-lo-creo-el-clero-ruso-ortodoxo', 'https://noticias.caracoltv.com/https://noticias.caracoltv.com/mundo/bebe-milagro-su-mama-murio-tras-ser-arrollada-por-conductora-ebria', 'https://noticias.caracoltv.com/https://noticias.caracoltv.com/politica/derrotamos-al-gobierno-se-cayo-el-mico-de-la-ley-de-regalias-que-daba-luz-verde-al-fracking', 'https://noticias.caracoltv.com/https://noticias.caracoltv.com/tour-de-francia/ciclismo-egan-bernal-envio-un-mensaje-tras-la-etapa-6-del-tour-de-francia-hay-que-tener-paciencia', 'https://noticias.caracoltv.com/https://noticias.caracoltv.com/tour-de-francia/el-debut-en-el-tour-de-francia-todavia-no-le-sonrie-a-dayer-quintana-volvio-a-caerse-en-la-etapa-6', 'https://noticias.caracoltv.com/https://noticias.caracoltv.com/tour-de-francia/ciclista-por-que-ningun-ciclista-se-atreve-a-lanzar-un-ataque-en-la-montana-del-tour-de-francia', 'https://noticias.caracoltv.com/https://noticias.caracoltv.com/salud/canada-sugiere-saltarse-los-besos-y-usar-tapabocas-durante-el-sexo-en-tiempo-de-coronavirus', 'https://noticias.caracoltv.com/https://noticias.caracoltv.com/mundo/india-supero-sus-propias-cifras-record-de-contagios-diarios-con-covid-19', 'https://noticias.caracoltv.com/https://noticias.caracoltv.com/salud/colombia-hara-estudio-para-medir-el-dano-causado-por-el-covid-19', 'https://noticias.caracoltv.com/https://noticias.caracoltv.com/valle/vuelve-la-rumba-y-cali-lo-sabe-asi-sera-aguaelulo-que-reactiva-este-sector-en-la-ciudad', 'https://noticias.caracoltv.com/https://noticias.caracoltv.com/salud/el-93-de-proyectos-de-vacunas-no-llegan-a-la-fase-iii-minsalud-pide-optimismo-moderado', 'https://noticias.caracoltv.com/https://noticias.caracoltv.com/entretenimiento/la-roca-revelo-que-el-y-su-familia-tuvieron-coronavirus', 'https://noticias.caracoltv.com/https://noticias.caracoltv.com/salud/vacuna-contra-covid-19-no-estaria-antes-del-primer-semestre-de-2021-minsalud', 'https://noticias.caracoltv.com/https://noticias.caracoltv.com/antioquia/mi-bebe-es-muy-pequeno-y-no-le-puedo-faltar-danna-garcia-habla-de-la-muerte-tras-el-covid-19', 'https://noticias.caracoltv.com/https://noticias.caracoltv.com/mundo/si-lees-esto-estoy-muerto-lo-que-escribio-joven-antes-de-ser-alcanzado-por-un-violador', 'https://noticias.caracoltv.com/https://noticias.caracoltv.com/antioquia/ladron-huyo-al-ver-que-su-complice-fue-herido-de-muerte-por-un-escolta-en-el-sur-de-medellin', 'https://noticias.caracoltv.com/https://noticias.caracoltv.com/antioquia/preparese-para-ver-mas-gente-en-el-metro-autorizaron-ampliar-su-capacidad-de-ocupacion', 'https://noticias.caracoltv.com/https://noticias.caracoltv.com/valle/por-una-afeccion-respiratoria-clara-luz-roldan-fue-internada-en-una-clinica-de-cali', 'https://noticias.caracoltv.com/https://noticias.caracoltv.com/caribe/heroicos-policias-salvaron-a-mujer-que-estaba-a-punto-de-lanzarse-desde-un-puente-en-magdalena', 'https://noticias.caracoltv.com/https://noticias.caracoltv.com/valle/madre-del-delito-mujer-que-integraba-banda-criminal-escondia-las-armas-en-el-coche-de-su-hijo', 'https://noticias.caracoltv.com/https://noticias.caracoltv.com/antioquia/ciudadanos-denuncian-calvario-para-poder-sacar-sus-vehiculos-de-los-patios-en-medellin', 'https://noticias.caracoltv.com/https://noticias.caracoltv.com/caribe/nino-de-12-anos-sufrio-graves-quemaduras-tras-la-caida-de-un-cable-en-barranquilla', 'https://noticias.caracoltv.com/https://noticias.caracoltv.com/valle/carcel-para-una-joven-que-asesino-a-una-mujer-durante-una-rina-entre-pandillas', 'https://noticias.caracoltv.com/https://noticias.caracoltv.com/antioquia/rescatan-a-trabajadores-que-habian-caido-a-un-abismo-en-el-tunel-del-toyo', 'https://noticias.caracoltv.com/https://noticias.caracoltv.com/mundo/encuentran-los-cuerpos-de-5-hermanitos-en-un-apartamento-y-la-mama-seria-la-responsable-del-crimen', 'https://noticias.caracoltv.com/https://noticias.caracoltv.com/mundo/como-malabarista-de-circo-arriesgo-su-vida-para-robar-cableado-electrico-y-termino-mal', 'https://noticias.caracoltv.com/https://noticias.caracoltv.com/mundo/reunion-entre-henrique-capriles-y-el-gobierno-de-maduro-molesto-a-guaido', 'https://noticias.caracoltv.com/https://noticias.caracoltv.com/mundo/prueba-indiscutible-confirman-que-alexei-navalny-duro-critico-de-vladimir-putin-fue-envenenado', 'https://noticias.caracoltv.com/https://noticias.caracoltv.com/mundo/ee-uu-se-la-juega-por-deportar-a-mancuso-a-colombia-estos-dos-sus-argumentos', 'https://noticias.caracoltv.com/https://noticias.caracoltv.com/mundo/esto-es-hermoso-papa-francisco-se-reencuentra-cara-a-cara-con-fieles-luego-de-6-meses', 'https://noticias.caracoltv.com/https://noticias.caracoltv.com/mundo/muere-joven-embarazada-en-atentado-contra-su-novio-mientras-ambos-dormian', 'https://noticias.caracoltv.com/https://noticias.caracoltv.com/mundo/se-le-dano-la-risa-a-grupo-de-payasos-que-despedia-con-fiesta-a-uno-de-sus-colegas', 'https://noticias.caracoltv.com/https://noticias.caracoltv.com/mundo/ee-uu-no-participara-en-plataforma-de-la-oms-para-distribuir-la-vacuna-del-coronavirus', 'https://noticias.caracoltv.com/https://noticias.caracoltv.com/mundo/muere-otro-hombre-afroamericano-a-manos-de-la-policia-en-ee-uu-denuncian-que-le-dieron-mas-de-20-tiros', 'https://noticias.caracoltv.com/https://noticias.caracoltv.com/salud/casos-de-coronavirus-colombia-2-de-septiembre', 'https://noticias.caracoltv.com/https://noticias.caracoltv.com/salud/desde-el-congreso-denuncian-manipulacion-de-cifras-para-aplanar-curva-del-covid-19', 'https://noticias.caracoltv.com/https://noticias.caracoltv.com/salud/heroica-labor-de-100-voluntarios-que-lucharon-contra-el-covid-en-varias-zonas-de-colombia', 'https://noticias.caracoltv.com/https://noticias.caracoltv.com/salud/casos-de-coronavirus-colombia-1-de-septiembre', 'https://noticias.caracoltv.com/https://noticias.caracoltv.com/salud/bacteriologa-contrajo-covid-19-en-abril-y-volvio-a-dar-positivo-en-julio-puede-ser-reinfeccion', 'https://noticias.caracoltv.com/https://noticias.caracoltv.com/salud/cuidado-gobierno-reconoce-que-con-nueva-normalidad-puede-haber-un-rebrote-del-coronavirus', 'https://noticias.caracoltv.com/https://noticias.caracoltv.com/salud/casos-de-coronavirus-colombia-31-de-agosto', 'https://noticias.caracoltv.com/https://noticias.caracoltv.com/salud/tiene-barba-ojo-a-estas-recomendaciones-a-la-hora-de-usar-tapabocas', 'https://noticias.caracoltv.com/https://noticias.caracoltv.com/salud/como-se-ve-afectado-el-olfato-por-el-coronavirus', 'https://noticias.caracoltv.com/https://noticias.caracoltv.com/salud/que-significa-el-rastreo-de-contactos-de-covid-19-y-por-que-es-tan-importante', 'https://noticias.caracoltv.com/https://noticias.caracoltv.com/entretenimiento/respuesta-de-shannon-de-lima-a-usuario-que-le-dijo-mantenida-de-james', 'https://noticias.caracoltv.com/https://noticias.caracoltv.com/entretenimiento/natalia-paris-sorprende-a-sus-seguidores-al-revelar-experiencia-paranormal', 'https://noticias.caracoltv.com/https://noticias.caracoltv.com/entretenimiento/una-experiencia-maravillosa-fernando-trueba-sobre-hacer-el-olvido-que-seremos-en-colombia', 'https://noticias.caracoltv.com/https://noticias.caracoltv.com/entretenimiento/dedicatoria-de-la-chilindrina-por-cumpleanos-de-don-ramon', 'https://noticias.caracoltv.com/https://noticias.caracoltv.com/entretenimiento/salir-de-la-pobreza-ni-siquiera-es-tener-dinero-vea-el-contundente-mensaje-que-envio-la-liendra', 'https://noticias.caracoltv.com/https://noticias.caracoltv.com/entretenimiento/el-dj-erick-morillo-muerto-en-extranas-circunstancias-enfrentaba-un-proceso-judicial-hace-un-mes', 'https://noticias.caracoltv.com/https://noticias.caracoltv.com/entretenimiento/bts-habla-de-su-exitosa-cancion-dynamite-y-envia-un-mensaje-a-los-army-de-todo-el-mundo', 'https://noticias.caracoltv.com/https://noticias.caracoltv.com/entretenimiento/sara-uribe-ensena-el-tatuaje-que-se-hizo-en-pareja', 'https://noticias.caracoltv.com/https://noticias.caracoltv.com/entretenimiento/elton-john-billie-eilish-y-ozzy-osbourne-donaron-valiosos-objetos-para-una-subasta-benefica', 'https://noticias.caracoltv.com/https://noticias.caracoltv.com/entretenimiento/jennifer-lopez-liderara-campana-para-que-las-mujeres-latinas-voten-en-elecciones-de-ee-uu']\n"
          ],
          "name": "stdout"
        }
      ]
    },
    {
      "cell_type": "code",
      "metadata": {
        "id": "P4U3OwDI9r6m",
        "colab_type": "code",
        "colab": {}
      },
      "source": [
        "import pandas as pd \n",
        "noticiasElTiempo = pd.DataFrame(dictNoticias)\n",
        "noticiasElTiempo\n",
        "\n",
        "noticiasElTiempo.to_csv('noticias.csv', index=False)"
      ],
      "execution_count": 16,
      "outputs": []
    }
  ]
}