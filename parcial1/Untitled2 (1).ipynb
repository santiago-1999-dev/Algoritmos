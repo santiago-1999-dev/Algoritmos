{
  "nbformat": 4,
  "nbformat_minor": 0,
  "metadata": {
    "colab": {
      "name": "Untitled2.ipynb",
      "provenance": [],
      "collapsed_sections": []
    },
    "kernelspec": {
      "name": "python3",
      "display_name": "Python 3"
    }
  },
  "cells": [
    {
      "cell_type": "code",
      "metadata": {
        "id": "Ln8Y7dYY1dc6",
        "colab_type": "code",
        "colab": {
          "base_uri": "https://localhost:8080/",
          "height": 34
        },
        "outputId": "e6d180d1-557a-40da-c111-5e0e4f971c34"
      },
      "source": [
        "import requests \n",
        "url = 'https://listado.mercadolibre.com.co/camiones#D[A:camiones]'\n",
        "response = requests.get (url)\n",
        "print (response)"
      ],
      "execution_count": 37,
      "outputs": [
        {
          "output_type": "stream",
          "text": [
            "<Response [200]>\n"
          ],
          "name": "stdout"
        }
      ]
    },
    {
      "cell_type": "code",
      "metadata": {
        "id": "T7QpnuWG1f7Y",
        "colab_type": "code",
        "colab": {
          "base_uri": "https://localhost:8080/",
          "height": 105
        },
        "outputId": "bd62072c-12e6-4281-eb92-3057532dc94b"
      },
      "source": [
        "import bs4\n",
        "parseo = bs4.BeautifulSoup (response.text, 'html.parser')\n",
        "getDataSelect = lambda clase : parseo.select(clase)\n",
        "dataTitle = parseo.select ('.ui-search-item__group--title')\n",
        "dataPrice = getDataSelect('.price-tag-fraction')\n",
        "print (dataTitle)\n",
        "print (dataPrice)\n",
        "\n",
        "nombreCamiones = []\n",
        "funcionExtraerTexto = lambda elemento : elemento.text\n",
        "funcionListaDatos = lambda funcion, data :  list (map (funcion,data))\n",
        "nombreCamiones = funcionListaDatos(funcionExtraerTexto, dataTitle)\n",
        "\n",
        "print (nombreCamiones)\n",
        "listaPrecios = funcionListaDatos(funcionExtraerTexto, dataPrice)\n",
        "print (listaPrecios)\n"
      ],
      "execution_count": 38,
      "outputs": [
        {
          "output_type": "stream",
          "text": [
            "[<div class=\"ui-search-item__group ui-search-item__group--title\"><h2 class=\"ui-search-item__title ui-search-item__group__element\">Mazda Turbo T45 Estacas 2.8 Ton Estacas</h2></div>, <div class=\"ui-search-item__group ui-search-item__group--title\"><h2 class=\"ui-search-item__title ui-search-item__group__element\">Jmc Carrying Cabina Sencilla 3.2 Ton</h2></div>, <div class=\"ui-search-item__group ui-search-item__group--title\"><h2 class=\"ui-search-item__title ui-search-item__group__element\">Nuevo Camion  Fuso Fa 9.6 Pbv,  Chasis Modelo 2021</h2></div>, <div class=\"ui-search-item__group ui-search-item__group--title\"><h2 class=\"ui-search-item__title ui-search-item__group__element\">Camion Jmc 3.2 Toneladas</h2></div>, <div class=\"ui-search-item__group ui-search-item__group--title\"><h2 class=\"ui-search-item__title ui-search-item__group__element\">Mercedes 2011</h2></div>, <div class=\"ui-search-item__group ui-search-item__group--title\"><h2 class=\"ui-search-item__title ui-search-item__group__element\">Freightliner La Constructora  Modelo 2021</h2></div>, <div class=\"ui-search-item__group ui-search-item__group--title\"><h2 class=\"ui-search-item__title ui-search-item__group__element\">Chevrolet Nhr 2016 Pública Furgón Carga Seca</h2></div>, <div class=\"ui-search-item__group ui-search-item__group--title\"><h2 class=\"ui-search-item__title ui-search-item__group__element\">Jac Jrr Cummins Euro 4</h2></div>, <div class=\"ui-search-item__group ui-search-item__group--title\"><h2 class=\"ui-search-item__title ui-search-item__group__element\">Chasis Fuso Canter 7.5</h2></div>, <div class=\"ui-search-item__group ui-search-item__group--title\"><h2 class=\"ui-search-item__title ui-search-item__group__element\">Chevrolet Nhr 2017 Thermo King</h2></div>, <div class=\"ui-search-item__group ui-search-item__group--title\"><h2 class=\"ui-search-item__title ui-search-item__group__element\">Nissan Np-300 Frontier Np-300</h2></div>, <div class=\"ui-search-item__group ui-search-item__group--title\"><h2 class=\"ui-search-item__title ui-search-item__group__element\">Camion Jmc 3.5 Toneladas</h2></div>, <div class=\"ui-search-item__group ui-search-item__group--title\"><h2 class=\"ui-search-item__title ui-search-item__group__element\">Kenworth Volqueta T-800</h2></div>, <div class=\"ui-search-item__group ui-search-item__group--title\"><h2 class=\"ui-search-item__title ui-search-item__group__element\">Chevrolet Nhr 2800 Cc Mt Td</h2></div>, <div class=\"ui-search-item__group ui-search-item__group--title\"><h2 class=\"ui-search-item__title ui-search-item__group__element\">Chevrolet  Carry Super - Negociable</h2></div>, <div class=\"ui-search-item__group ui-search-item__group--title\"><h2 class=\"ui-search-item__title ui-search-item__group__element\">Chevrolet Nhr</h2></div>, <div class=\"ui-search-item__group ui-search-item__group--title\"><h2 class=\"ui-search-item__title ui-search-item__group__element\">Super Minimula  Freightliner M2 106 4x2  Motor Cummins Isl</h2></div>, <div class=\"ui-search-item__group ui-search-item__group--title\"><h2 class=\"ui-search-item__title ui-search-item__group__element\">Foton Bj 1041 Furgon</h2></div>, <div class=\"ui-search-item__group ui-search-item__group--title\"><h2 class=\"ui-search-item__title ui-search-item__group__element\">Chevrolet Luv D-max 2.5 2010</h2></div>, <div class=\"ui-search-item__group ui-search-item__group--title\"><h2 class=\"ui-search-item__title ui-search-item__group__element\">Kenworth T800</h2></div>, <div class=\"ui-search-item__group ui-search-item__group--title\"><h2 class=\"ui-search-item__title ui-search-item__group__element\">Hyundai Chasis Cabinado Hd55</h2></div>, <div class=\"ui-search-item__group ui-search-item__group--title\"><h2 class=\"ui-search-item__title ui-search-item__group__element\">Camion Kodiak Sencillo 600 Furgon Estacas Económico Ganga</h2></div>, <div class=\"ui-search-item__group ui-search-item__group--title\"><h2 class=\"ui-search-item__title ui-search-item__group__element\">Chevrolet Nqr</h2></div>, <div class=\"ui-search-item__group ui-search-item__group--title\"><h2 class=\"ui-search-item__title ui-search-item__group__element\">Chevrolet Frr</h2></div>, <div class=\"ui-search-item__group ui-search-item__group--title\"><h2 class=\"ui-search-item__title ui-search-item__group__element\">Hyunday H100 Porter 2012</h2></div>, <div class=\"ui-search-item__group ui-search-item__group--title\"><h2 class=\"ui-search-item__title ui-search-item__group__element\">Chevrolet Ftr</h2></div>, <div class=\"ui-search-item__group ui-search-item__group--title\"><h2 class=\"ui-search-item__title ui-search-item__group__element\">Turbo Jac Hfc1040kn Modelo 2018</h2></div>, <div class=\"ui-search-item__group ui-search-item__group--title\"><h2 class=\"ui-search-item__title ui-search-item__group__element\">Chevrolet Npr</h2></div>, <div class=\"ui-search-item__group ui-search-item__group--title\"><h2 class=\"ui-search-item__title ui-search-item__group__element\">Ford Cargo 815</h2></div>, <div class=\"ui-search-item__group ui-search-item__group--title\"><h2 class=\"ui-search-item__title ui-search-item__group__element\">Jac 1048 Año 2015</h2></div>, <div class=\"ui-search-item__group ui-search-item__group--title\"><h2 class=\"ui-search-item__title ui-search-item__group__element\">Furgon H100 Carga Seca</h2></div>, <div class=\"ui-search-item__group ui-search-item__group--title\"><h2 class=\"ui-search-item__title ui-search-item__group__element\">Camion Jac Estacas 2014</h2></div>, <div class=\"ui-search-item__group ui-search-item__group--title\"><h2 class=\"ui-search-item__title ui-search-item__group__element\">Furgones Foton Aumark</h2></div>, <div class=\"ui-search-item__group ui-search-item__group--title\"><h2 class=\"ui-search-item__title ui-search-item__group__element\">Kenworth T800</h2></div>, <div class=\"ui-search-item__group ui-search-item__group--title\"><h2 class=\"ui-search-item__title ui-search-item__group__element\">Npr Thermoking  4.5</h2></div>, <div class=\"ui-search-item__group ui-search-item__group--title\"><h2 class=\"ui-search-item__title ui-search-item__group__element\">Furgon Hino Dutro City</h2></div>, <div class=\"ui-search-item__group ui-search-item__group--title\"><h2 class=\"ui-search-item__title ui-search-item__group__element\">Volkwagen 17220 - Estacas</h2></div>, <div class=\"ui-search-item__group ui-search-item__group--title\"><h2 class=\"ui-search-item__title ui-search-item__group__element\">Heyundai Santafe</h2></div>, <div class=\"ui-search-item__group ui-search-item__group--title\"><h2 class=\"ui-search-item__title ui-search-item__group__element\">Chevrolet Frr</h2></div>, <div class=\"ui-search-item__group ui-search-item__group--title\"><h2 class=\"ui-search-item__title ui-search-item__group__element\">Volkswagen Worker </h2></div>, <div class=\"ui-search-item__group ui-search-item__group--title\"><h2 class=\"ui-search-item__title ui-search-item__group__element\">Chevrolet Nhr</h2></div>, <div class=\"ui-search-item__group ui-search-item__group--title\"><h2 class=\"ui-search-item__title ui-search-item__group__element\">Tractocamion Freightliner 114sd Modelo 2020</h2></div>, <div class=\"ui-search-item__group ui-search-item__group--title\"><h2 class=\"ui-search-item__title ui-search-item__group__element\">Chevrolet  Nqr 2019</h2></div>, <div class=\"ui-search-item__group ui-search-item__group--title\"><h2 class=\"ui-search-item__title ui-search-item__group__element\">Hyundai Ex100 (sin Furgón)</h2></div>, <div class=\"ui-search-item__group ui-search-item__group--title\"><h2 class=\"ui-search-item__title ui-search-item__group__element\">Camión Bomberos Internacional Motor Diesel</h2></div>, <div class=\"ui-search-item__group ui-search-item__group--title\"><h2 class=\"ui-search-item__title ui-search-item__group__element\">Freightliner 2013</h2></div>, <div class=\"ui-search-item__group ui-search-item__group--title\"><h2 class=\"ui-search-item__title ui-search-item__group__element\">Jac Jpr, 2021</h2></div>, <div class=\"ui-search-item__group ui-search-item__group--title\"><h2 class=\"ui-search-item__title ui-search-item__group__element\">Freightliner Columbia</h2></div>]\n",
            "[<span class=\"price-tag-fraction\">27.500.000</span>, <span class=\"price-tag-fraction\">59.990.000</span>, <span class=\"price-tag-fraction\">134.100.000</span>, <span class=\"price-tag-fraction\">59.990.000</span>, <span class=\"price-tag-fraction\">105.000.000</span>, <span class=\"price-tag-fraction\">443.900.000</span>, <span class=\"price-tag-fraction\">65.000.000</span>, <span class=\"price-tag-fraction\">102.000.000</span>, <span class=\"price-tag-fraction\">111.210.000</span>, <span class=\"price-tag-fraction\">68.900.000</span>, <span class=\"price-tag-fraction\">62.000.000</span>, <span class=\"price-tag-fraction\">69.990.000</span>, <span class=\"price-tag-fraction\">217.000.000</span>, <span class=\"price-tag-fraction\">54.000.000</span>, <span class=\"price-tag-fraction\">18.000.000</span>, <span class=\"price-tag-fraction\">82.500.000</span>, <span class=\"price-tag-fraction\">358.500.000</span>, <span class=\"price-tag-fraction\">60.000.000</span>, <span class=\"price-tag-fraction\">42.900.000</span>, <span class=\"price-tag-fraction\">305.000.000</span>, <span class=\"price-tag-fraction\">91.990.000</span>, <span class=\"price-tag-fraction\">130.900.000</span>, <span class=\"price-tag-fraction\">110.000.000</span>, <span class=\"price-tag-fraction\">140.000.000</span>, <span class=\"price-tag-fraction\">35.900.000</span>, <span class=\"price-tag-fraction\">170.000.000</span>, <span class=\"price-tag-fraction\">60.000.000</span>, <span class=\"price-tag-fraction\">60.000.000</span>, <span class=\"price-tag-fraction\">54.500.000</span>, <span class=\"price-tag-fraction\">47.000.000</span>, <span class=\"price-tag-fraction\">37.800.000</span>, <span class=\"price-tag-fraction\">55.000.000</span>, <span class=\"price-tag-fraction\">68.000.000</span>, <span class=\"price-tag-fraction\">275.000.000</span>, <span class=\"price-tag-fraction\">81.500.000</span>, <span class=\"price-tag-fraction\">73.000.000</span>, <span class=\"price-tag-fraction\">210.000.000</span>, <span class=\"price-tag-fraction\">35.000.000</span>, <span class=\"price-tag-fraction\">160.000.000</span>, <span class=\"price-tag-fraction\">95.000.000</span>, <span class=\"price-tag-fraction\">67.000.000</span>, <span class=\"price-tag-fraction\">419.900.000</span>, <span class=\"price-tag-fraction\">140.000.000</span>, <span class=\"price-tag-fraction\">132.990.200</span>, <span class=\"price-tag-fraction\">300.000.000</span>, <span class=\"price-tag-fraction\">230.000.000</span>, <span class=\"price-tag-fraction\">91.990.000</span>, <span class=\"price-tag-fraction\">300.000.000</span>]\n",
            "['Mazda Turbo T45 Estacas 2.8 Ton Estacas', 'Jmc Carrying Cabina Sencilla 3.2 Ton', 'Nuevo Camion  Fuso Fa 9.6 Pbv,  Chasis Modelo 2021', 'Camion Jmc 3.2 Toneladas', 'Mercedes 2011', 'Freightliner La Constructora  Modelo 2021', 'Chevrolet Nhr 2016 Pública Furgón Carga Seca', 'Jac Jrr Cummins Euro 4', 'Chasis Fuso Canter 7.5', 'Chevrolet Nhr 2017 Thermo King', 'Nissan Np-300 Frontier Np-300', 'Camion Jmc 3.5 Toneladas', 'Kenworth Volqueta T-800', 'Chevrolet Nhr 2800 Cc Mt Td', 'Chevrolet  Carry Super - Negociable', 'Chevrolet Nhr', 'Super Minimula  Freightliner M2 106 4x2  Motor Cummins Isl', 'Foton Bj 1041 Furgon', 'Chevrolet Luv D-max 2.5 2010', 'Kenworth T800', 'Hyundai Chasis Cabinado Hd55', 'Camion Kodiak Sencillo 600 Furgon Estacas Económico Ganga', 'Chevrolet Nqr', 'Chevrolet Frr', 'Hyunday H100 Porter 2012', 'Chevrolet Ftr', 'Turbo Jac Hfc1040kn Modelo 2018', 'Chevrolet Npr', 'Ford Cargo 815', 'Jac 1048 Año 2015', 'Furgon H100 Carga Seca', 'Camion Jac Estacas 2014', 'Furgones Foton Aumark', 'Kenworth T800', 'Npr Thermoking  4.5', 'Furgon Hino Dutro City', 'Volkwagen 17220 - Estacas', 'Heyundai Santafe', 'Chevrolet Frr', 'Volkswagen Worker ', 'Chevrolet Nhr', 'Tractocamion Freightliner 114sd Modelo 2020', 'Chevrolet  Nqr 2019', 'Hyundai Ex100 (sin Furgón)', 'Camión Bomberos Internacional Motor Diesel', 'Freightliner 2013', 'Jac Jpr, 2021', 'Freightliner Columbia']\n",
            "['27.500.000', '59.990.000', '134.100.000', '59.990.000', '105.000.000', '443.900.000', '65.000.000', '102.000.000', '111.210.000', '68.900.000', '62.000.000', '69.990.000', '217.000.000', '54.000.000', '18.000.000', '82.500.000', '358.500.000', '60.000.000', '42.900.000', '305.000.000', '91.990.000', '130.900.000', '110.000.000', '140.000.000', '35.900.000', '170.000.000', '60.000.000', '60.000.000', '54.500.000', '47.000.000', '37.800.000', '55.000.000', '68.000.000', '275.000.000', '81.500.000', '73.000.000', '210.000.000', '35.000.000', '160.000.000', '95.000.000', '67.000.000', '419.900.000', '140.000.000', '132.990.200', '300.000.000', '230.000.000', '91.990.000', '300.000.000']\n"
          ],
          "name": "stdout"
        }
      ]
    },
    {
      "cell_type": "code",
      "metadata": {
        "id": "OlntdZ-O1kM0",
        "colab_type": "code",
        "colab": {
          "base_uri": "https://localhost:8080/",
          "height": 51
        },
        "outputId": "582a5252-085f-40a2-edcc-dfeb8f71b0be"
      },
      "source": [
        "print (len(nombreCamiones))\n",
        "print (len(listaPrecios))"
      ],
      "execution_count": 39,
      "outputs": [
        {
          "output_type": "stream",
          "text": [
            "48\n",
            "48\n"
          ],
          "name": "stdout"
        }
      ]
    },
    {
      "cell_type": "code",
      "metadata": {
        "id": "sGbzQpcd1rzJ",
        "colab_type": "code",
        "colab": {
          "base_uri": "https://localhost:8080/",
          "height": 34
        },
        "outputId": "01b0c0b1-e140-4f4e-f287-3e5812af70ea"
      },
      "source": [
        "import pandas as pd\n",
        "dictCamiones = {}\n",
        "dictCamiones ['Titulos'] = nombreCamiones[:48]\n",
        "print (len (nombreCamiones), len (listaPrecios))\n",
        "dictCamiones ['Precios'] = listaPrecios[:48]\n",
        "CamionesDataFrame = pd.DataFrame(dictCamiones)\n",
        "CamionesDataFrame.to_csv('Camiones.csv', index=False) "
      ],
      "execution_count": 40,
      "outputs": [
        {
          "output_type": "stream",
          "text": [
            "48 48\n"
          ],
          "name": "stdout"
        }
      ]
    },
    {
      "cell_type": "code",
      "metadata": {
        "id": "-PxzUjPW1x6Q",
        "colab_type": "code",
        "colab": {
          "base_uri": "https://localhost:8080/",
          "height": 71
        },
        "outputId": "33d6adc9-807b-4091-b62d-1010471fd319"
      },
      "source": [
        "funcionAgregarCamion = lambda elemento : 'Camion : ' + elemento\n",
        "titulosCamiones = list (map(funcionAgregarCamion,nombreCamiones))\n",
        "print (titulosCamiones)\n",
        "titulosCamiones2 = funcionListaDatos (funcionAgregarCamion, nombreCamiones)\n",
        "print (titulosCamiones2)\n",
        "dictCamiones = {}\n",
        "dictCamiones['Titulos'] = titulosCamiones2[:48]\n",
        "dictCamiones ['Precios'] = listaPrecios[:48]\n",
        "CamionesDF = pd.DataFrame(dictCamiones)\n",
        "CamionesDF.to_csv('CamionMod.csv', index= False)"
      ],
      "execution_count": 41,
      "outputs": [
        {
          "output_type": "stream",
          "text": [
            "['Camion : Mazda Turbo T45 Estacas 2.8 Ton Estacas', 'Camion : Jmc Carrying Cabina Sencilla 3.2 Ton', 'Camion : Nuevo Camion  Fuso Fa 9.6 Pbv,  Chasis Modelo 2021', 'Camion : Camion Jmc 3.2 Toneladas', 'Camion : Mercedes 2011', 'Camion : Freightliner La Constructora  Modelo 2021', 'Camion : Chevrolet Nhr 2016 Pública Furgón Carga Seca', 'Camion : Jac Jrr Cummins Euro 4', 'Camion : Chasis Fuso Canter 7.5', 'Camion : Chevrolet Nhr 2017 Thermo King', 'Camion : Nissan Np-300 Frontier Np-300', 'Camion : Camion Jmc 3.5 Toneladas', 'Camion : Kenworth Volqueta T-800', 'Camion : Chevrolet Nhr 2800 Cc Mt Td', 'Camion : Chevrolet  Carry Super - Negociable', 'Camion : Chevrolet Nhr', 'Camion : Super Minimula  Freightliner M2 106 4x2  Motor Cummins Isl', 'Camion : Foton Bj 1041 Furgon', 'Camion : Chevrolet Luv D-max 2.5 2010', 'Camion : Kenworth T800', 'Camion : Hyundai Chasis Cabinado Hd55', 'Camion : Camion Kodiak Sencillo 600 Furgon Estacas Económico Ganga', 'Camion : Chevrolet Nqr', 'Camion : Chevrolet Frr', 'Camion : Hyunday H100 Porter 2012', 'Camion : Chevrolet Ftr', 'Camion : Turbo Jac Hfc1040kn Modelo 2018', 'Camion : Chevrolet Npr', 'Camion : Ford Cargo 815', 'Camion : Jac 1048 Año 2015', 'Camion : Furgon H100 Carga Seca', 'Camion : Camion Jac Estacas 2014', 'Camion : Furgones Foton Aumark', 'Camion : Kenworth T800', 'Camion : Npr Thermoking  4.5', 'Camion : Furgon Hino Dutro City', 'Camion : Volkwagen 17220 - Estacas', 'Camion : Heyundai Santafe', 'Camion : Chevrolet Frr', 'Camion : Volkswagen Worker ', 'Camion : Chevrolet Nhr', 'Camion : Tractocamion Freightliner 114sd Modelo 2020', 'Camion : Chevrolet  Nqr 2019', 'Camion : Hyundai Ex100 (sin Furgón)', 'Camion : Camión Bomberos Internacional Motor Diesel', 'Camion : Freightliner 2013', 'Camion : Jac Jpr, 2021', 'Camion : Freightliner Columbia']\n",
            "['Camion : Mazda Turbo T45 Estacas 2.8 Ton Estacas', 'Camion : Jmc Carrying Cabina Sencilla 3.2 Ton', 'Camion : Nuevo Camion  Fuso Fa 9.6 Pbv,  Chasis Modelo 2021', 'Camion : Camion Jmc 3.2 Toneladas', 'Camion : Mercedes 2011', 'Camion : Freightliner La Constructora  Modelo 2021', 'Camion : Chevrolet Nhr 2016 Pública Furgón Carga Seca', 'Camion : Jac Jrr Cummins Euro 4', 'Camion : Chasis Fuso Canter 7.5', 'Camion : Chevrolet Nhr 2017 Thermo King', 'Camion : Nissan Np-300 Frontier Np-300', 'Camion : Camion Jmc 3.5 Toneladas', 'Camion : Kenworth Volqueta T-800', 'Camion : Chevrolet Nhr 2800 Cc Mt Td', 'Camion : Chevrolet  Carry Super - Negociable', 'Camion : Chevrolet Nhr', 'Camion : Super Minimula  Freightliner M2 106 4x2  Motor Cummins Isl', 'Camion : Foton Bj 1041 Furgon', 'Camion : Chevrolet Luv D-max 2.5 2010', 'Camion : Kenworth T800', 'Camion : Hyundai Chasis Cabinado Hd55', 'Camion : Camion Kodiak Sencillo 600 Furgon Estacas Económico Ganga', 'Camion : Chevrolet Nqr', 'Camion : Chevrolet Frr', 'Camion : Hyunday H100 Porter 2012', 'Camion : Chevrolet Ftr', 'Camion : Turbo Jac Hfc1040kn Modelo 2018', 'Camion : Chevrolet Npr', 'Camion : Ford Cargo 815', 'Camion : Jac 1048 Año 2015', 'Camion : Furgon H100 Carga Seca', 'Camion : Camion Jac Estacas 2014', 'Camion : Furgones Foton Aumark', 'Camion : Kenworth T800', 'Camion : Npr Thermoking  4.5', 'Camion : Furgon Hino Dutro City', 'Camion : Volkwagen 17220 - Estacas', 'Camion : Heyundai Santafe', 'Camion : Chevrolet Frr', 'Camion : Volkswagen Worker ', 'Camion : Chevrolet Nhr', 'Camion : Tractocamion Freightliner 114sd Modelo 2020', 'Camion : Chevrolet  Nqr 2019', 'Camion : Hyundai Ex100 (sin Furgón)', 'Camion : Camión Bomberos Internacional Motor Diesel', 'Camion : Freightliner 2013', 'Camion : Jac Jpr, 2021', 'Camion : Freightliner Columbia']\n"
          ],
          "name": "stdout"
        }
      ]
    },
    {
      "cell_type": "code",
      "metadata": {
        "id": "RNbNcOEn176H",
        "colab_type": "code",
        "colab": {
          "base_uri": "https://localhost:8080/",
          "height": 34
        },
        "outputId": "5d0d004f-e8e6-4a7a-c3ca-b42e0ed50acd"
      },
      "source": [
        "Foton = lambda elemento : 'Foton' in elemento \n",
        "\n",
        "listaFoton = list (filter(Foton, titulosCamiones))\n",
        "print (listaFoton)\n",
        "\n",
        "FotonSerie = pd.Series(listaFoton)\n",
        "FotonSerie.to_csv('Camiones Foton.csv',  index_label='Foton')\n"
      ],
      "execution_count": 56,
      "outputs": [
        {
          "output_type": "stream",
          "text": [
            "['Camion : Foton Bj 1041 Furgon', 'Camion : Furgones Foton Aumark']\n"
          ],
          "name": "stdout"
        }
      ]
    },
    {
      "cell_type": "code",
      "metadata": {
        "id": "kaYtTkQS21uy",
        "colab_type": "code",
        "colab": {
          "base_uri": "https://localhost:8080/",
          "height": 34
        },
        "outputId": "0572475f-bfce-4219-bb18-2568a71151a3"
      },
      "source": [
        "\n",
        "nombres = titulosCamiones\n",
        "nombresCortos = lambda elemento : len (elemento) < 80\n",
        "listaNombresFiltrados = list (filter (nombresCortos, listaFoton))\n",
        "print (listaNombresFiltrados)"
      ],
      "execution_count": 55,
      "outputs": [
        {
          "output_type": "stream",
          "text": [
            "['Camion : Foton Bj 1041 Furgon', 'Camion : Furgones Foton Aumark']\n"
          ],
          "name": "stdout"
        }
      ]
    },
    {
      "cell_type": "code",
      "metadata": {
        "id": "Sg2CFPeW3kkh",
        "colab_type": "code",
        "colab": {
          "base_uri": "https://localhost:8080/",
          "height": 71
        },
        "outputId": "91c9f085-4320-4d78-c5e3-e8e134d34180"
      },
      "source": [
        "from functools import reduce\n",
        "\n",
        "lista = titulosCamiones\n",
        "largo= lambda elemento: len(elemento)\n",
        "listalargos= list (map(largo, lista))\n",
        "print (listalargos)\n",
        "sumador = lambda elemento =0, acumulador=0 : acumulador + elemento \n",
        "promedio = reduce (sumador, listalargos) / len(titulosCamiones)\n",
        "print (promedio)"
      ],
      "execution_count": 61,
      "outputs": [
        {
          "output_type": "stream",
          "text": [
            "[48, 45, 59, 33, 22, 50, 53, 31, 31, 39, 38, 33, 32, 36, 44, 22, 67, 29, 37, 22, 37, 66, 22, 22, 33, 22, 40, 22, 23, 26, 31, 32, 30, 22, 28, 31, 34, 25, 22, 27, 22, 52, 28, 35, 51, 26, 22, 30]\n",
            "34.0\n"
          ],
          "name": "stdout"
        }
      ]
    },
    {
      "cell_type": "code",
      "metadata": {
        "id": "gfrrDLnb39gG",
        "colab_type": "code",
        "colab": {}
      },
      "source": [
        "CamionesDataFrame"
      ],
      "execution_count": null,
      "outputs": []
    },
    {
      "cell_type": "code",
      "metadata": {
        "id": "Taib8ieR_PNK",
        "colab_type": "code",
        "colab": {}
      },
      "source": [
        "CamionesDF"
      ],
      "execution_count": null,
      "outputs": []
    },
    {
      "cell_type": "code",
      "metadata": {
        "id": "wqk_A5py_S4a",
        "colab_type": "code",
        "colab": {}
      },
      "source": [
        "FotonSerie"
      ],
      "execution_count": null,
      "outputs": []
    },
    {
      "cell_type": "code",
      "metadata": {
        "id": "Y8VrVd0Q4QeD",
        "colab_type": "code",
        "colab": {
          "base_uri": "https://localhost:8080/",
          "height": 88
        },
        "outputId": "8b3bff14-fbc8-4cbe-f19e-862a57104646"
      },
      "source": [
        "from functools import reduce\n",
        "\n",
        "lista = listaPrecios\n",
        "largo = lambda elemento: len(elemento)\n",
        "listalargos= list (map(largo, lista))\n",
        "print (listalargos)\n",
        "\n",
        "print(max(listalargos))\n",
        "\n",
        "lista = listaPrecios\n",
        "division = lambda elemento: len(elemento)/(11)\n",
        "listadivision = list(map(division, lista))\n",
        "print (listadivision)\n",
        "\n",
        "\n",
        "\n",
        " "
      ],
      "execution_count": 77,
      "outputs": [
        {
          "output_type": "stream",
          "text": [
            "[10, 10, 11, 10, 11, 11, 10, 11, 11, 10, 10, 10, 11, 10, 10, 10, 11, 10, 10, 11, 10, 11, 11, 11, 10, 11, 10, 10, 10, 10, 10, 10, 10, 11, 10, 10, 11, 10, 11, 10, 10, 11, 11, 11, 11, 11, 10, 11]\n",
            "11\n",
            "[0.9090909090909091, 0.9090909090909091, 1.0, 0.9090909090909091, 1.0, 1.0, 0.9090909090909091, 1.0, 1.0, 0.9090909090909091, 0.9090909090909091, 0.9090909090909091, 1.0, 0.9090909090909091, 0.9090909090909091, 0.9090909090909091, 1.0, 0.9090909090909091, 0.9090909090909091, 1.0, 0.9090909090909091, 1.0, 1.0, 1.0, 0.9090909090909091, 1.0, 0.9090909090909091, 0.9090909090909091, 0.9090909090909091, 0.9090909090909091, 0.9090909090909091, 0.9090909090909091, 0.9090909090909091, 1.0, 0.9090909090909091, 0.9090909090909091, 1.0, 0.9090909090909091, 1.0, 0.9090909090909091, 0.9090909090909091, 1.0, 1.0, 1.0, 1.0, 1.0, 0.9090909090909091, 1.0]\n"
          ],
          "name": "stdout"
        }
      ]
    },
    {
      "cell_type": "code",
      "metadata": {
        "id": "kUSiGId_JhR3",
        "colab_type": "code",
        "colab": {
          "base_uri": "https://localhost:8080/",
          "height": 1000
        },
        "outputId": "eb0803dd-4000-402d-a8e9-ca354b036435"
      },
      "source": [
        "CamionesDataFrame = pd.DataFrame(dictCamiones)\n",
        "dictCamiones = {}\n",
        "dictCamiones ['Titulos'] = nombreCamiones\n",
        "dictCamiones ['Precios'] = listaPrecios\n",
        "CamionesDataFrame\n"
      ],
      "execution_count": 100,
      "outputs": [
        {
          "output_type": "execute_result",
          "data": {
            "text/html": [
              "<div>\n",
              "<style scoped>\n",
              "    .dataframe tbody tr th:only-of-type {\n",
              "        vertical-align: middle;\n",
              "    }\n",
              "\n",
              "    .dataframe tbody tr th {\n",
              "        vertical-align: top;\n",
              "    }\n",
              "\n",
              "    .dataframe thead th {\n",
              "        text-align: right;\n",
              "    }\n",
              "</style>\n",
              "<table border=\"1\" class=\"dataframe\">\n",
              "  <thead>\n",
              "    <tr style=\"text-align: right;\">\n",
              "      <th></th>\n",
              "      <th>Titulos</th>\n",
              "      <th>Precios</th>\n",
              "    </tr>\n",
              "  </thead>\n",
              "  <tbody>\n",
              "    <tr>\n",
              "      <th>0</th>\n",
              "      <td>Mazda Turbo T45 Estacas 2.8 Ton Estacas</td>\n",
              "      <td>27.500.000</td>\n",
              "    </tr>\n",
              "    <tr>\n",
              "      <th>1</th>\n",
              "      <td>Jmc Carrying Cabina Sencilla 3.2 Ton</td>\n",
              "      <td>59.990.000</td>\n",
              "    </tr>\n",
              "    <tr>\n",
              "      <th>2</th>\n",
              "      <td>Nuevo Camion  Fuso Fa 9.6 Pbv,  Chasis Modelo ...</td>\n",
              "      <td>134.100.000</td>\n",
              "    </tr>\n",
              "    <tr>\n",
              "      <th>3</th>\n",
              "      <td>Camion Jmc 3.2 Toneladas</td>\n",
              "      <td>59.990.000</td>\n",
              "    </tr>\n",
              "    <tr>\n",
              "      <th>4</th>\n",
              "      <td>Mercedes 2011</td>\n",
              "      <td>105.000.000</td>\n",
              "    </tr>\n",
              "    <tr>\n",
              "      <th>5</th>\n",
              "      <td>Freightliner La Constructora  Modelo 2021</td>\n",
              "      <td>443.900.000</td>\n",
              "    </tr>\n",
              "    <tr>\n",
              "      <th>6</th>\n",
              "      <td>Chevrolet Nhr 2016 Pública Furgón Carga Seca</td>\n",
              "      <td>65.000.000</td>\n",
              "    </tr>\n",
              "    <tr>\n",
              "      <th>7</th>\n",
              "      <td>Jac Jrr Cummins Euro 4</td>\n",
              "      <td>102.000.000</td>\n",
              "    </tr>\n",
              "    <tr>\n",
              "      <th>8</th>\n",
              "      <td>Chasis Fuso Canter 7.5</td>\n",
              "      <td>111.210.000</td>\n",
              "    </tr>\n",
              "    <tr>\n",
              "      <th>9</th>\n",
              "      <td>Chevrolet Nhr 2017 Thermo King</td>\n",
              "      <td>68.900.000</td>\n",
              "    </tr>\n",
              "    <tr>\n",
              "      <th>10</th>\n",
              "      <td>Nissan Np-300 Frontier Np-300</td>\n",
              "      <td>62.000.000</td>\n",
              "    </tr>\n",
              "    <tr>\n",
              "      <th>11</th>\n",
              "      <td>Camion Jmc 3.5 Toneladas</td>\n",
              "      <td>69.990.000</td>\n",
              "    </tr>\n",
              "    <tr>\n",
              "      <th>12</th>\n",
              "      <td>Kenworth Volqueta T-800</td>\n",
              "      <td>217.000.000</td>\n",
              "    </tr>\n",
              "    <tr>\n",
              "      <th>13</th>\n",
              "      <td>Chevrolet Nhr 2800 Cc Mt Td</td>\n",
              "      <td>54.000.000</td>\n",
              "    </tr>\n",
              "    <tr>\n",
              "      <th>14</th>\n",
              "      <td>Chevrolet  Carry Super - Negociable</td>\n",
              "      <td>18.000.000</td>\n",
              "    </tr>\n",
              "    <tr>\n",
              "      <th>15</th>\n",
              "      <td>Chevrolet Nhr</td>\n",
              "      <td>82.500.000</td>\n",
              "    </tr>\n",
              "    <tr>\n",
              "      <th>16</th>\n",
              "      <td>Super Minimula  Freightliner M2 106 4x2  Motor...</td>\n",
              "      <td>358.500.000</td>\n",
              "    </tr>\n",
              "    <tr>\n",
              "      <th>17</th>\n",
              "      <td>Foton Bj 1041 Furgon</td>\n",
              "      <td>60.000.000</td>\n",
              "    </tr>\n",
              "    <tr>\n",
              "      <th>18</th>\n",
              "      <td>Chevrolet Luv D-max 2.5 2010</td>\n",
              "      <td>42.900.000</td>\n",
              "    </tr>\n",
              "    <tr>\n",
              "      <th>19</th>\n",
              "      <td>Kenworth T800</td>\n",
              "      <td>305.000.000</td>\n",
              "    </tr>\n",
              "    <tr>\n",
              "      <th>20</th>\n",
              "      <td>Hyundai Chasis Cabinado Hd55</td>\n",
              "      <td>91.990.000</td>\n",
              "    </tr>\n",
              "    <tr>\n",
              "      <th>21</th>\n",
              "      <td>Camion Kodiak Sencillo 600 Furgon Estacas Econ...</td>\n",
              "      <td>130.900.000</td>\n",
              "    </tr>\n",
              "    <tr>\n",
              "      <th>22</th>\n",
              "      <td>Chevrolet Nqr</td>\n",
              "      <td>110.000.000</td>\n",
              "    </tr>\n",
              "    <tr>\n",
              "      <th>23</th>\n",
              "      <td>Chevrolet Frr</td>\n",
              "      <td>140.000.000</td>\n",
              "    </tr>\n",
              "    <tr>\n",
              "      <th>24</th>\n",
              "      <td>Hyunday H100 Porter 2012</td>\n",
              "      <td>35.900.000</td>\n",
              "    </tr>\n",
              "    <tr>\n",
              "      <th>25</th>\n",
              "      <td>Chevrolet Ftr</td>\n",
              "      <td>170.000.000</td>\n",
              "    </tr>\n",
              "    <tr>\n",
              "      <th>26</th>\n",
              "      <td>Turbo Jac Hfc1040kn Modelo 2018</td>\n",
              "      <td>60.000.000</td>\n",
              "    </tr>\n",
              "    <tr>\n",
              "      <th>27</th>\n",
              "      <td>Chevrolet Npr</td>\n",
              "      <td>60.000.000</td>\n",
              "    </tr>\n",
              "    <tr>\n",
              "      <th>28</th>\n",
              "      <td>Ford Cargo 815</td>\n",
              "      <td>54.500.000</td>\n",
              "    </tr>\n",
              "    <tr>\n",
              "      <th>29</th>\n",
              "      <td>Jac 1048 Año 2015</td>\n",
              "      <td>47.000.000</td>\n",
              "    </tr>\n",
              "    <tr>\n",
              "      <th>30</th>\n",
              "      <td>Furgon H100 Carga Seca</td>\n",
              "      <td>37.800.000</td>\n",
              "    </tr>\n",
              "    <tr>\n",
              "      <th>31</th>\n",
              "      <td>Camion Jac Estacas 2014</td>\n",
              "      <td>55.000.000</td>\n",
              "    </tr>\n",
              "    <tr>\n",
              "      <th>32</th>\n",
              "      <td>Furgones Foton Aumark</td>\n",
              "      <td>68.000.000</td>\n",
              "    </tr>\n",
              "    <tr>\n",
              "      <th>33</th>\n",
              "      <td>Kenworth T800</td>\n",
              "      <td>275.000.000</td>\n",
              "    </tr>\n",
              "    <tr>\n",
              "      <th>34</th>\n",
              "      <td>Npr Thermoking  4.5</td>\n",
              "      <td>81.500.000</td>\n",
              "    </tr>\n",
              "    <tr>\n",
              "      <th>35</th>\n",
              "      <td>Furgon Hino Dutro City</td>\n",
              "      <td>73.000.000</td>\n",
              "    </tr>\n",
              "    <tr>\n",
              "      <th>36</th>\n",
              "      <td>Volkwagen 17220 - Estacas</td>\n",
              "      <td>210.000.000</td>\n",
              "    </tr>\n",
              "    <tr>\n",
              "      <th>37</th>\n",
              "      <td>Heyundai Santafe</td>\n",
              "      <td>35.000.000</td>\n",
              "    </tr>\n",
              "    <tr>\n",
              "      <th>38</th>\n",
              "      <td>Chevrolet Frr</td>\n",
              "      <td>160.000.000</td>\n",
              "    </tr>\n",
              "    <tr>\n",
              "      <th>39</th>\n",
              "      <td>Volkswagen Worker</td>\n",
              "      <td>95.000.000</td>\n",
              "    </tr>\n",
              "    <tr>\n",
              "      <th>40</th>\n",
              "      <td>Chevrolet Nhr</td>\n",
              "      <td>67.000.000</td>\n",
              "    </tr>\n",
              "    <tr>\n",
              "      <th>41</th>\n",
              "      <td>Tractocamion Freightliner 114sd Modelo 2020</td>\n",
              "      <td>419.900.000</td>\n",
              "    </tr>\n",
              "    <tr>\n",
              "      <th>42</th>\n",
              "      <td>Chevrolet  Nqr 2019</td>\n",
              "      <td>140.000.000</td>\n",
              "    </tr>\n",
              "    <tr>\n",
              "      <th>43</th>\n",
              "      <td>Hyundai Ex100 (sin Furgón)</td>\n",
              "      <td>132.990.200</td>\n",
              "    </tr>\n",
              "    <tr>\n",
              "      <th>44</th>\n",
              "      <td>Camión Bomberos Internacional Motor Diesel</td>\n",
              "      <td>300.000.000</td>\n",
              "    </tr>\n",
              "    <tr>\n",
              "      <th>45</th>\n",
              "      <td>Freightliner 2013</td>\n",
              "      <td>230.000.000</td>\n",
              "    </tr>\n",
              "    <tr>\n",
              "      <th>46</th>\n",
              "      <td>Jac Jpr, 2021</td>\n",
              "      <td>91.990.000</td>\n",
              "    </tr>\n",
              "    <tr>\n",
              "      <th>47</th>\n",
              "      <td>Freightliner Columbia</td>\n",
              "      <td>300.000.000</td>\n",
              "    </tr>\n",
              "  </tbody>\n",
              "</table>\n",
              "</div>"
            ],
            "text/plain": [
              "                                              Titulos      Precios\n",
              "0             Mazda Turbo T45 Estacas 2.8 Ton Estacas   27.500.000\n",
              "1                Jmc Carrying Cabina Sencilla 3.2 Ton   59.990.000\n",
              "2   Nuevo Camion  Fuso Fa 9.6 Pbv,  Chasis Modelo ...  134.100.000\n",
              "3                            Camion Jmc 3.2 Toneladas   59.990.000\n",
              "4                                       Mercedes 2011  105.000.000\n",
              "5           Freightliner La Constructora  Modelo 2021  443.900.000\n",
              "6        Chevrolet Nhr 2016 Pública Furgón Carga Seca   65.000.000\n",
              "7                              Jac Jrr Cummins Euro 4  102.000.000\n",
              "8                              Chasis Fuso Canter 7.5  111.210.000\n",
              "9                      Chevrolet Nhr 2017 Thermo King   68.900.000\n",
              "10                      Nissan Np-300 Frontier Np-300   62.000.000\n",
              "11                           Camion Jmc 3.5 Toneladas   69.990.000\n",
              "12                            Kenworth Volqueta T-800  217.000.000\n",
              "13                        Chevrolet Nhr 2800 Cc Mt Td   54.000.000\n",
              "14                Chevrolet  Carry Super - Negociable   18.000.000\n",
              "15                                      Chevrolet Nhr   82.500.000\n",
              "16  Super Minimula  Freightliner M2 106 4x2  Motor...  358.500.000\n",
              "17                               Foton Bj 1041 Furgon   60.000.000\n",
              "18                       Chevrolet Luv D-max 2.5 2010   42.900.000\n",
              "19                                      Kenworth T800  305.000.000\n",
              "20                       Hyundai Chasis Cabinado Hd55   91.990.000\n",
              "21  Camion Kodiak Sencillo 600 Furgon Estacas Econ...  130.900.000\n",
              "22                                      Chevrolet Nqr  110.000.000\n",
              "23                                      Chevrolet Frr  140.000.000\n",
              "24                           Hyunday H100 Porter 2012   35.900.000\n",
              "25                                      Chevrolet Ftr  170.000.000\n",
              "26                    Turbo Jac Hfc1040kn Modelo 2018   60.000.000\n",
              "27                                      Chevrolet Npr   60.000.000\n",
              "28                                     Ford Cargo 815   54.500.000\n",
              "29                                  Jac 1048 Año 2015   47.000.000\n",
              "30                             Furgon H100 Carga Seca   37.800.000\n",
              "31                            Camion Jac Estacas 2014   55.000.000\n",
              "32                              Furgones Foton Aumark   68.000.000\n",
              "33                                      Kenworth T800  275.000.000\n",
              "34                                Npr Thermoking  4.5   81.500.000\n",
              "35                             Furgon Hino Dutro City   73.000.000\n",
              "36                          Volkwagen 17220 - Estacas  210.000.000\n",
              "37                                   Heyundai Santafe   35.000.000\n",
              "38                                      Chevrolet Frr  160.000.000\n",
              "39                                 Volkswagen Worker    95.000.000\n",
              "40                                      Chevrolet Nhr   67.000.000\n",
              "41        Tractocamion Freightliner 114sd Modelo 2020  419.900.000\n",
              "42                                Chevrolet  Nqr 2019  140.000.000\n",
              "43                         Hyundai Ex100 (sin Furgón)  132.990.200\n",
              "44         Camión Bomberos Internacional Motor Diesel  300.000.000\n",
              "45                                  Freightliner 2013  230.000.000\n",
              "46                                      Jac Jpr, 2021   91.990.000\n",
              "47                              Freightliner Columbia  300.000.000"
            ]
          },
          "metadata": {
            "tags": []
          },
          "execution_count": 100
        }
      ]
    }
  ]
}