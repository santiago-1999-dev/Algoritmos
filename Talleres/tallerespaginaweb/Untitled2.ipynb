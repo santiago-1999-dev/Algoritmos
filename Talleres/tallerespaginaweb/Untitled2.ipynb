{
  "nbformat": 4,
  "nbformat_minor": 0,
  "metadata": {
    "colab": {
      "name": "Untitled2.ipynb",
      "provenance": [],
      "collapsed_sections": []
    },
    "kernelspec": {
      "name": "python3",
      "display_name": "Python 3"
    }
  },
  "cells": [
    {
      "cell_type": "code",
      "metadata": {
        "id": "EAHItohQtufN",
        "colab_type": "code",
        "colab": {
          "base_uri": "https://localhost:8080/",
          "height": 581
        },
        "outputId": "e8a86d5a-5ac7-45ab-ce7f-76f8bd4acde3"
      },
      "source": [
        "import requests\n",
        "import bs4\n",
        "\n",
        "url = \"https://noticias.canalrcn.com/\"\n",
        "\n",
        "response = requests.get(url)\n",
        "\n",
        "soup = bs4.BeautifulSoup(response.text, 'html.parser')\n",
        "news = soup.select('.nota-interes a')\n",
        "noticias = []\n",
        "\n",
        "for item in news:\n",
        "    print(f\"Noticia:{item.text} | Link: {url}{item['href']}\")"
      ],
      "execution_count": 19,
      "outputs": [
        {
          "output_type": "stream",
          "text": [
            "Noticia: | Link: https://noticias.canalrcn.com/https://deportes.canalrcn.com/futbol/futbol-internacional/james-rodriguez-es-nuevo-jugador-del-everton-de-la-premier-league-124700\n",
            "Noticia:James RodrÃ­guez es nuevo jugador del Everton de la Premier LeagueSeptiembre 01 2020 13:10 PM | Link: https://noticias.canalrcn.com/https://deportes.canalrcn.com/futbol/futbol-internacional/james-rodriguez-es-nuevo-jugador-del-everton-de-la-premier-league-124700\n",
            "Noticia: | Link: https://noticias.canalrcn.com/https://noticias.canalrcn.com/nacional/estas-son-las-medidas-especiales-del-aislamiento-selectivo-que-ya-rige-en-colombia-362201\n",
            "Noticia:Estas son las medidas especiales que ya rigen en Colombia por el aislamiento selectivoSeptiembre 01 2020 08:35 AM | Link: https://noticias.canalrcn.com/https://noticias.canalrcn.com/nacional/estas-son-las-medidas-especiales-del-aislamiento-selectivo-que-ya-rige-en-colombia-362201\n",
            "Noticia: | Link: https://noticias.canalrcn.com/https://noticias.canalrcn.com/bogota/aunque-quiso-separarlos-pareja-de-esposos-vencio-al-coronavirus-362203\n",
            "Noticia:Aunque quiso separarlos, pareja de esposos venciÃ³ al coronavirusSeptiembre 01 2020 11:09 AM | Link: https://noticias.canalrcn.com/https://noticias.canalrcn.com/bogota/aunque-quiso-separarlos-pareja-de-esposos-vencio-al-coronavirus-362203\n",
            "Noticia: | Link: https://noticias.canalrcn.com/https://noticias.canalrcn.com/bogota/denuncian-cobros-excesivos-durante-reactivacion-de-transporte-terrestre-362197\n",
            "Noticia:Denuncian cobros excesivos durante reactivaciÃ³n del transporte terrestreSeptiembre 01 2020 06:57 AM | Link: https://noticias.canalrcn.com/https://noticias.canalrcn.com/bogota/denuncian-cobros-excesivos-durante-reactivacion-de-transporte-terrestre-362197\n",
            "Noticia: | Link: https://noticias.canalrcn.com/https://deportes.canalrcn.com/futbol/futbol-internacional/james-rodriguez-es-nuevo-jugador-del-everton-de-la-premier-league-124700\n",
            "Noticia:James RodrÃ­guez es nuevo jugador del Everton de la Premier League September 01 2020 13:00 PM | Link: https://noticias.canalrcn.com/https://deportes.canalrcn.com/futbol/futbol-internacional/james-rodriguez-es-nuevo-jugador-del-everton-de-la-premier-league-124700\n",
            "Noticia: | Link: https://noticias.canalrcn.com/https://deportes.canalrcn.com/ciclismo/ruta/roglic-gana-y-nairo-es-cuarto-en-la-etapa-4-del-tour-2020-124689\n",
            "Noticia:Roglic gana y Nairo es cuarto en la etapa 4 del Tour 2020 September 01 2020 10:45 AM | Link: https://noticias.canalrcn.com/https://deportes.canalrcn.com/ciclismo/ruta/roglic-gana-y-nairo-es-cuarto-en-la-etapa-4-del-tour-2020-124689\n",
            "Noticia: | Link: https://noticias.canalrcn.com/https://deportes.canalrcn.com/futbol/futbol-internacional/se-queda-companero-de-juanfer-en-river-plate-hace-un-pique-124694\n",
            "Noticia:Â¿Se queda? CompaÃ±ero de JuanFer en River Plate hace un 'PiquÃ©'September 01 2020 12:01 PM | Link: https://noticias.canalrcn.com/https://deportes.canalrcn.com/futbol/futbol-internacional/se-queda-companero-de-juanfer-en-river-plate-hace-un-pique-124694\n",
            "Noticia: | Link: https://noticias.canalrcn.com/https://deportes.canalrcn.com/futbol/futbol-internacional/el-colombiano-sebastian-villa-analiza-salir-de-boca-juniors-en-medio-de\n",
            "Noticia:SebastiÃ¡n Villa y su pedido a Boca para que acepte una oferta de Brasil y salir del club September 01 2020 10:24 AM | Link: https://noticias.canalrcn.com/https://deportes.canalrcn.com/futbol/futbol-internacional/el-colombiano-sebastian-villa-analiza-salir-de-boca-juniors-en-medio-de\n",
            "Noticia: | Link: https://noticias.canalrcn.com/https://canalrcn.com/super-like/gente/articulo-video/hija-de-marbelle-revela-detalles-de-su-noviazgo-con-johana-leon-14349\n",
            "Noticia:Hija de Marbelle revela detalles de su noviazgo con Johana LeÃ³nSeptiembre 01 2020 11:49 AM | Link: https://noticias.canalrcn.com/https://canalrcn.com/super-like/gente/articulo-video/hija-de-marbelle-revela-detalles-de-su-noviazgo-con-johana-leon-14349\n",
            "Noticia: | Link: https://noticias.canalrcn.com/https://canalrcn.com/super-like/gente/articulo-video/que-cuerpo-karol-g-presumio-sus-voluptuosas-curvas-en-diminuto-bikini-14329\n",
            "Noticia:QuÃ© cuerpo, Karol G presumiÃ³ sus voluptuosas curvas en diminuto bikiniAgosto 31 2020 11:31 AM | Link: https://noticias.canalrcn.com/https://canalrcn.com/super-like/gente/articulo-video/que-cuerpo-karol-g-presumio-sus-voluptuosas-curvas-en-diminuto-bikini-14329\n",
            "Noticia: | Link: https://noticias.canalrcn.com/https://canalrcn.com/super-like/gente/articulo-nota/asi-se-veia-elianis-garrido-cuando-no-tenia-cirugias-esteticas-y-era-porrista\n",
            "Noticia:AsÃ­ se veÃ­a Elianis Garrido cuando no tenÃ­a cirugÃ­as estÃ©ticas y era porristaAgosto 28 2020 11:27 AM | Link: https://noticias.canalrcn.com/https://canalrcn.com/super-like/gente/articulo-nota/asi-se-veia-elianis-garrido-cuando-no-tenia-cirugias-esteticas-y-era-porrista\n",
            "Noticia: | Link: https://noticias.canalrcn.com/https://canalrcn.com/super-like/gente/articulo-video/shannon-de-lima-presumio-sus-supuestos-kilos-de-mas-en-diminuto-bikini-14348\n",
            "Noticia:Shannon de Lima presumiÃ³ sus supuestos kilos de mÃ¡s en diminuto bikiniSeptiembre 01 2020 11:19 AM | Link: https://noticias.canalrcn.com/https://canalrcn.com/super-like/gente/articulo-video/shannon-de-lima-presumio-sus-supuestos-kilos-de-mas-en-diminuto-bikini-14348\n",
            "Noticia: | Link: https://noticias.canalrcn.com/https://canalrcn.com/todogamers/novedades/articulo-video/ps5-estrena-un-nuevo-trailer-de-la-consola-3228\n",
            "Noticia:Â¡PS5 estrena un nuevo trÃ¡iler de la consola!Septiembre 01 2020 11:33 AM | Link: https://noticias.canalrcn.com/https://canalrcn.com/todogamers/novedades/articulo-video/ps5-estrena-un-nuevo-trailer-de-la-consola-3228\n",
            "Noticia: | Link: https://noticias.canalrcn.com/https://canalrcn.com/todogamers/novedades/articulo-nota/este-podria-ser-el-nuevo-nombre-de-gods-monsters-3207\n",
            "Noticia:Este podrÃ­a ser el nuevo nombre de Gods & MonstersAgosto 31 2020 09:12 AM | Link: https://noticias.canalrcn.com/https://canalrcn.com/todogamers/novedades/articulo-nota/este-podria-ser-el-nuevo-nombre-de-gods-monsters-3207\n",
            "Noticia: | Link: https://noticias.canalrcn.com/https://canalrcn.com/todogamers/novedades/articulo-nota/ghostrunner-abre-pre-registro-para-su-beta-cerrada-3208\n",
            "Noticia:Ghostrunner abre pre-registro para su beta cerradaAgosto 31 2020 09:48 AM | Link: https://noticias.canalrcn.com/https://canalrcn.com/todogamers/novedades/articulo-nota/ghostrunner-abre-pre-registro-para-su-beta-cerrada-3208\n",
            "Noticia: | Link: https://noticias.canalrcn.com/https://canalrcn.com/todogamers/trucos-y-guias/articulo-video/prueba-estos-tres-juegos-al-estilo-fall-guys-en-tu-celular-3212\n",
            "Noticia:Prueba estos tres juegos al estilo Fall Guys en tu celular Agosto 31 2020 11:49 AM | Link: https://noticias.canalrcn.com/https://canalrcn.com/todogamers/trucos-y-guias/articulo-video/prueba-estos-tres-juegos-al-estilo-fall-guys-en-tu-celular-3212\n"
          ],
          "name": "stdout"
        }
      ]
    },
    {
      "cell_type": "code",
      "metadata": {
        "id": "3fnO0Yy-z7Sc",
        "colab_type": "code",
        "colab": {
          "base_uri": "https://localhost:8080/",
          "height": 71
        },
        "outputId": "a22b0bd5-6984-4431-df4a-8a18a123aa30"
      },
      "source": [
        "titulos =[]\n",
        "links = []\n",
        "for noticia in news:\n",
        "  titulos.append(noticia.text)\n",
        "  links.append('https://noticias.canalrcn.com/'+ noticia['href'])\n",
        "print (titulos)\n",
        "print (links)\n",
        "dictNoticias = {}\n",
        "dictNoticias['Noticias']= titulos\n",
        "dictNoticias['links']= links"
      ],
      "execution_count": 22,
      "outputs": [
        {
          "output_type": "stream",
          "text": [
            "['', 'James RodrÃ\\xadguez es nuevo jugador del Everton de la Premier LeagueSeptiembre 01 2020 13:10 PM', '', 'Estas son las medidas especiales que ya rigen en Colombia por el aislamiento selectivoSeptiembre 01 2020 08:35 AM', '', 'Aunque quiso separarlos, pareja de esposos venciÃ³ al coronavirusSeptiembre 01 2020 11:09 AM', '', 'Denuncian cobros excesivos durante reactivaciÃ³n del transporte terrestreSeptiembre 01 2020 06:57 AM', '', 'James RodrÃ\\xadguez es nuevo jugador del Everton de la Premier League September 01 2020 13:00 PM', '', 'Roglic gana y Nairo es cuarto en la etapa 4 del Tour 2020 September 01 2020 10:45 AM', '', \"Â¿Se queda? CompaÃ±ero de JuanFer en River Plate hace un 'PiquÃ©'September 01 2020 12:01 PM\", '', 'SebastiÃ¡n Villa y su pedido a Boca para que acepte una oferta de Brasil y salir del club September 01 2020 10:24 AM', '', 'Hija de Marbelle revela detalles de su noviazgo con Johana LeÃ³nSeptiembre 01 2020 11:49 AM', '', 'QuÃ© cuerpo, Karol G presumiÃ³ sus voluptuosas curvas en diminuto bikiniAgosto 31 2020 11:31 AM', '', 'AsÃ\\xad se veÃ\\xada Elianis Garrido cuando no tenÃ\\xada cirugÃ\\xadas estÃ©ticas y era porristaAgosto 28 2020 11:27 AM', '', 'Shannon de Lima presumiÃ³ sus supuestos kilos de mÃ¡s en diminuto bikiniSeptiembre 01 2020 11:19 AM', '', 'Â¡PS5 estrena un nuevo trÃ¡iler de la consola!Septiembre 01 2020 11:33 AM', '', 'Este podrÃ\\xada ser el nuevo nombre de Gods & MonstersAgosto 31 2020 09:12 AM', '', 'Ghostrunner abre pre-registro para su beta cerradaAgosto 31 2020 09:48 AM', '', 'Prueba estos tres juegos al estilo Fall Guys en tu celular Agosto 31 2020 11:49 AM']\n",
            "['https://noticias.canalrcn.com/https://deportes.canalrcn.com/futbol/futbol-internacional/james-rodriguez-es-nuevo-jugador-del-everton-de-la-premier-league-124700', 'https://noticias.canalrcn.com/https://deportes.canalrcn.com/futbol/futbol-internacional/james-rodriguez-es-nuevo-jugador-del-everton-de-la-premier-league-124700', 'https://noticias.canalrcn.com/https://noticias.canalrcn.com/nacional/estas-son-las-medidas-especiales-del-aislamiento-selectivo-que-ya-rige-en-colombia-362201', 'https://noticias.canalrcn.com/https://noticias.canalrcn.com/nacional/estas-son-las-medidas-especiales-del-aislamiento-selectivo-que-ya-rige-en-colombia-362201', 'https://noticias.canalrcn.com/https://noticias.canalrcn.com/bogota/aunque-quiso-separarlos-pareja-de-esposos-vencio-al-coronavirus-362203', 'https://noticias.canalrcn.com/https://noticias.canalrcn.com/bogota/aunque-quiso-separarlos-pareja-de-esposos-vencio-al-coronavirus-362203', 'https://noticias.canalrcn.com/https://noticias.canalrcn.com/bogota/denuncian-cobros-excesivos-durante-reactivacion-de-transporte-terrestre-362197', 'https://noticias.canalrcn.com/https://noticias.canalrcn.com/bogota/denuncian-cobros-excesivos-durante-reactivacion-de-transporte-terrestre-362197', 'https://noticias.canalrcn.com/https://deportes.canalrcn.com/futbol/futbol-internacional/james-rodriguez-es-nuevo-jugador-del-everton-de-la-premier-league-124700', 'https://noticias.canalrcn.com/https://deportes.canalrcn.com/futbol/futbol-internacional/james-rodriguez-es-nuevo-jugador-del-everton-de-la-premier-league-124700', 'https://noticias.canalrcn.com/https://deportes.canalrcn.com/ciclismo/ruta/roglic-gana-y-nairo-es-cuarto-en-la-etapa-4-del-tour-2020-124689', 'https://noticias.canalrcn.com/https://deportes.canalrcn.com/ciclismo/ruta/roglic-gana-y-nairo-es-cuarto-en-la-etapa-4-del-tour-2020-124689', 'https://noticias.canalrcn.com/https://deportes.canalrcn.com/futbol/futbol-internacional/se-queda-companero-de-juanfer-en-river-plate-hace-un-pique-124694', 'https://noticias.canalrcn.com/https://deportes.canalrcn.com/futbol/futbol-internacional/se-queda-companero-de-juanfer-en-river-plate-hace-un-pique-124694', 'https://noticias.canalrcn.com/https://deportes.canalrcn.com/futbol/futbol-internacional/el-colombiano-sebastian-villa-analiza-salir-de-boca-juniors-en-medio-de', 'https://noticias.canalrcn.com/https://deportes.canalrcn.com/futbol/futbol-internacional/el-colombiano-sebastian-villa-analiza-salir-de-boca-juniors-en-medio-de', 'https://noticias.canalrcn.com/https://canalrcn.com/super-like/gente/articulo-video/hija-de-marbelle-revela-detalles-de-su-noviazgo-con-johana-leon-14349', 'https://noticias.canalrcn.com/https://canalrcn.com/super-like/gente/articulo-video/hija-de-marbelle-revela-detalles-de-su-noviazgo-con-johana-leon-14349', 'https://noticias.canalrcn.com/https://canalrcn.com/super-like/gente/articulo-video/que-cuerpo-karol-g-presumio-sus-voluptuosas-curvas-en-diminuto-bikini-14329', 'https://noticias.canalrcn.com/https://canalrcn.com/super-like/gente/articulo-video/que-cuerpo-karol-g-presumio-sus-voluptuosas-curvas-en-diminuto-bikini-14329', 'https://noticias.canalrcn.com/https://canalrcn.com/super-like/gente/articulo-nota/asi-se-veia-elianis-garrido-cuando-no-tenia-cirugias-esteticas-y-era-porrista', 'https://noticias.canalrcn.com/https://canalrcn.com/super-like/gente/articulo-nota/asi-se-veia-elianis-garrido-cuando-no-tenia-cirugias-esteticas-y-era-porrista', 'https://noticias.canalrcn.com/https://canalrcn.com/super-like/gente/articulo-video/shannon-de-lima-presumio-sus-supuestos-kilos-de-mas-en-diminuto-bikini-14348', 'https://noticias.canalrcn.com/https://canalrcn.com/super-like/gente/articulo-video/shannon-de-lima-presumio-sus-supuestos-kilos-de-mas-en-diminuto-bikini-14348', 'https://noticias.canalrcn.com/https://canalrcn.com/todogamers/novedades/articulo-video/ps5-estrena-un-nuevo-trailer-de-la-consola-3228', 'https://noticias.canalrcn.com/https://canalrcn.com/todogamers/novedades/articulo-video/ps5-estrena-un-nuevo-trailer-de-la-consola-3228', 'https://noticias.canalrcn.com/https://canalrcn.com/todogamers/novedades/articulo-nota/este-podria-ser-el-nuevo-nombre-de-gods-monsters-3207', 'https://noticias.canalrcn.com/https://canalrcn.com/todogamers/novedades/articulo-nota/este-podria-ser-el-nuevo-nombre-de-gods-monsters-3207', 'https://noticias.canalrcn.com/https://canalrcn.com/todogamers/novedades/articulo-nota/ghostrunner-abre-pre-registro-para-su-beta-cerrada-3208', 'https://noticias.canalrcn.com/https://canalrcn.com/todogamers/novedades/articulo-nota/ghostrunner-abre-pre-registro-para-su-beta-cerrada-3208', 'https://noticias.canalrcn.com/https://canalrcn.com/todogamers/trucos-y-guias/articulo-video/prueba-estos-tres-juegos-al-estilo-fall-guys-en-tu-celular-3212', 'https://noticias.canalrcn.com/https://canalrcn.com/todogamers/trucos-y-guias/articulo-video/prueba-estos-tres-juegos-al-estilo-fall-guys-en-tu-celular-3212']\n"
          ],
          "name": "stdout"
        }
      ]
    },
    {
      "cell_type": "code",
      "metadata": {
        "id": "8b4-sEBZ05ZW",
        "colab_type": "code",
        "colab": {}
      },
      "source": [
        "import pandas as pd \n",
        "noticiasElTiempo = pd.DataFrame(dictNoticias)\n",
        "noticiasElTiempo\n",
        "\n",
        "noticiasElTiempo.to_csv('noticias.csv', index=False)"
      ],
      "execution_count": 23,
      "outputs": []
    }
  ]
}