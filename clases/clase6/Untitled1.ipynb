{
  "nbformat": 4,
  "nbformat_minor": 0,
  "metadata": {
    "colab": {
      "name": "Untitled1.ipynb",
      "provenance": [],
      "collapsed_sections": []
    },
    "kernelspec": {
      "name": "python3",
      "display_name": "Python 3"
    }
  },
  "cells": [
    {
      "cell_type": "code",
      "metadata": {
        "id": "IsAEGxUVtwwU",
        "colab_type": "code",
        "colab": {}
      },
      "source": [
        "import pandas as pd "
      ],
      "execution_count": 5,
      "outputs": []
    },
    {
      "cell_type": "code",
      "metadata": {
        "id": "ch2E2U1puPhj",
        "colab_type": "code",
        "colab": {
          "base_uri": "https://localhost:8080/",
          "height": 204
        },
        "outputId": "6b583ab2-8f09-408f-a51d-794d962d1149"
      },
      "source": [
        "business_results =pd.Series({\"papa\":4200,\n",
        "                  \"Arroz\":4800,\n",
        "                  \"Huevo\":5400,\n",
        "                  \"Carne\":2200,\n",
        "                  \"platano\":2500,\n",
        "                  \"Arina\":3000,\n",
        "                  \"Tomate\":5000,\n",
        "                  \"Papaya\":7400,\n",
        "                  \"Limon\":1800,\n",
        "                  \"Borojo\": 4500})\n",
        "print(business_results)"
      ],
      "execution_count": 6,
      "outputs": [
        {
          "output_type": "stream",
          "text": [
            "papa       4200\n",
            "Arroz      4800\n",
            "Huevo      5400\n",
            "Carne      2200\n",
            "platano    2500\n",
            "Arina      3000\n",
            "Tomate     5000\n",
            "Papaya     7400\n",
            "Limon      1800\n",
            "Borojo     4500\n",
            "dtype: int64\n"
          ],
          "name": "stdout"
        }
      ]
    },
    {
      "cell_type": "code",
      "metadata": {
        "id": "mVftRmQOwKk3",
        "colab_type": "code",
        "colab": {
          "base_uri": "https://localhost:8080/",
          "height": 173
        },
        "outputId": "822637fd-7e86-40d0-8a5c-475d6f57ed8e"
      },
      "source": [
        "business_results_frame= pd.DataFrame({\"Enero\":[2000,1000,1200,3000],\n",
        "                  \"Febrero\":[2300,1200,1300,4500],\n",
        "                  \"Marzo\":[2400,1600,1400,6000],\n",
        "                  \"Abril\":[1000,600,600,5500]},index=['Carne','Papa','Yuca',\"platano\"])\n",
        "business_results_frame"
      ],
      "execution_count": 20,
      "outputs": [
        {
          "output_type": "execute_result",
          "data": {
            "text/html": [
              "<div>\n",
              "<style scoped>\n",
              "    .dataframe tbody tr th:only-of-type {\n",
              "        vertical-align: middle;\n",
              "    }\n",
              "\n",
              "    .dataframe tbody tr th {\n",
              "        vertical-align: top;\n",
              "    }\n",
              "\n",
              "    .dataframe thead th {\n",
              "        text-align: right;\n",
              "    }\n",
              "</style>\n",
              "<table border=\"1\" class=\"dataframe\">\n",
              "  <thead>\n",
              "    <tr style=\"text-align: right;\">\n",
              "      <th></th>\n",
              "      <th>Enero</th>\n",
              "      <th>Febrero</th>\n",
              "      <th>Marzo</th>\n",
              "      <th>Abril</th>\n",
              "    </tr>\n",
              "  </thead>\n",
              "  <tbody>\n",
              "    <tr>\n",
              "      <th>Carne</th>\n",
              "      <td>2000</td>\n",
              "      <td>2300</td>\n",
              "      <td>2400</td>\n",
              "      <td>1000</td>\n",
              "    </tr>\n",
              "    <tr>\n",
              "      <th>Papa</th>\n",
              "      <td>1000</td>\n",
              "      <td>1200</td>\n",
              "      <td>1600</td>\n",
              "      <td>600</td>\n",
              "    </tr>\n",
              "    <tr>\n",
              "      <th>Yuca</th>\n",
              "      <td>1200</td>\n",
              "      <td>1300</td>\n",
              "      <td>1400</td>\n",
              "      <td>600</td>\n",
              "    </tr>\n",
              "    <tr>\n",
              "      <th>platano</th>\n",
              "      <td>3000</td>\n",
              "      <td>4500</td>\n",
              "      <td>6000</td>\n",
              "      <td>5500</td>\n",
              "    </tr>\n",
              "  </tbody>\n",
              "</table>\n",
              "</div>"
            ],
            "text/plain": [
              "         Enero  Febrero  Marzo  Abril\n",
              "Carne     2000     2300   2400   1000\n",
              "Papa      1000     1200   1600    600\n",
              "Yuca      1200     1300   1400    600\n",
              "platano   3000     4500   6000   5500"
            ]
          },
          "metadata": {
            "tags": []
          },
          "execution_count": 20
        }
      ]
    },
    {
      "cell_type": "code",
      "metadata": {
        "id": "rVlE6guwy6cw",
        "colab_type": "code",
        "colab": {
          "base_uri": "https://localhost:8080/",
          "height": 173
        },
        "outputId": "5f6a5a0a-24d5-4801-9d88-fe2b02b555a4"
      },
      "source": [
        "#Dictionary like\n",
        "business_results_frame[[\"Febrero\",\"Marzo\"]]"
      ],
      "execution_count": 22,
      "outputs": [
        {
          "output_type": "execute_result",
          "data": {
            "text/html": [
              "<div>\n",
              "<style scoped>\n",
              "    .dataframe tbody tr th:only-of-type {\n",
              "        vertical-align: middle;\n",
              "    }\n",
              "\n",
              "    .dataframe tbody tr th {\n",
              "        vertical-align: top;\n",
              "    }\n",
              "\n",
              "    .dataframe thead th {\n",
              "        text-align: right;\n",
              "    }\n",
              "</style>\n",
              "<table border=\"1\" class=\"dataframe\">\n",
              "  <thead>\n",
              "    <tr style=\"text-align: right;\">\n",
              "      <th></th>\n",
              "      <th>Febrero</th>\n",
              "      <th>Marzo</th>\n",
              "    </tr>\n",
              "  </thead>\n",
              "  <tbody>\n",
              "    <tr>\n",
              "      <th>Carne</th>\n",
              "      <td>2300</td>\n",
              "      <td>2400</td>\n",
              "    </tr>\n",
              "    <tr>\n",
              "      <th>Papa</th>\n",
              "      <td>1200</td>\n",
              "      <td>1600</td>\n",
              "    </tr>\n",
              "    <tr>\n",
              "      <th>Yuca</th>\n",
              "      <td>1300</td>\n",
              "      <td>1400</td>\n",
              "    </tr>\n",
              "    <tr>\n",
              "      <th>platano</th>\n",
              "      <td>4500</td>\n",
              "      <td>6000</td>\n",
              "    </tr>\n",
              "  </tbody>\n",
              "</table>\n",
              "</div>"
            ],
            "text/plain": [
              "         Febrero  Marzo\n",
              "Carne       2300   2400\n",
              "Papa        1200   1600\n",
              "Yuca        1300   1400\n",
              "platano     4500   6000"
            ]
          },
          "metadata": {
            "tags": []
          },
          "execution_count": 22
        }
      ]
    },
    {
      "cell_type": "code",
      "metadata": {
        "id": "rCAkyuVfzYbD",
        "colab_type": "code",
        "colab": {
          "base_uri": "https://localhost:8080/",
          "height": 102
        },
        "outputId": "3894561e-bc37-4d5f-9571-a876a48282f4"
      },
      "source": [
        "#Dictionary like\n",
        "business_results_frame[\"Abril\"]"
      ],
      "execution_count": 23,
      "outputs": [
        {
          "output_type": "execute_result",
          "data": {
            "text/plain": [
              "Carne      1000\n",
              "Papa        600\n",
              "Yuca        600\n",
              "platano    5500\n",
              "Name: Abril, dtype: int64"
            ]
          },
          "metadata": {
            "tags": []
          },
          "execution_count": 23
        }
      ]
    }
  ]
}